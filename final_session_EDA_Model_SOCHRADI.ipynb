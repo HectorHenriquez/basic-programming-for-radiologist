{
 "cells": [
  {
   "cell_type": "code",
   "execution_count": null,
   "metadata": {
    "id": "titFZnTSP5XD"
   },
   "outputs": [],
   "source": [
    "### Funciones\n",
    "\n",
    "\"\"\"\n",
    "Conjunto de instrucciones que resuelven tarea específica.\n",
    "\n",
    "sintaxis:  funcion(parámetros)\n",
    "\n",
    "def funcion(parametros):\n",
    "  input.\n",
    "  definir la función.\n",
    "  output.\n",
    "\n",
    "  instrucciones\n",
    "  return()\n",
    "\"\"\"\n",
    "\n",
    "elements = ['Juan', 2, 56, 'Maria', 9.6, 'Catalina']\n",
    "\n",
    "def string_cleaner(elements):\n",
    "  strings_extracted = []\n",
    "  for element in elements:\n",
    "    if (type(element) == str):\n",
    "      strings_extracted.append(element)\n",
    "  return(strings_extracted)\n"
   ]
  },
  {
   "cell_type": "code",
   "execution_count": null,
   "metadata": {
    "colab": {
     "base_uri": "https://localhost:8080/"
    },
    "id": "5IejCbkTTIcS",
    "outputId": "0e2eab62-72e0-4c34-df72-7028c953f92a"
   },
   "outputs": [],
   "source": [
    "elements2 = ['Juan', 2, 56, 'Maria', 9.6, 'Catalina', 'Francisca', 'Mateo', 123.45]\n",
    "\n",
    "string_cleaner(elements2)\n"
   ]
  },
  {
   "cell_type": "code",
   "execution_count": null,
   "metadata": {
    "colab": {
     "base_uri": "https://localhost:8080/"
    },
    "id": "lB2UDSpSuj1i",
    "outputId": "2ab4e71a-f25c-4ca5-edf1-cef8e74b335e"
   },
   "outputs": [],
   "source": [
    "import numpy as np\n",
    "import pandas as pd\n",
    "import stats\n",
    "import json\n",
    "import requests\n",
    "from collections import Counter\n",
    "import scipy.stats\n",
    "from sklearn.model_selection import train_test_split\n",
    "from sklearn.tree import DecisionTreeClassifier\n",
    "from sklearn.metrics import confusion_matrix, classification_report\n",
    "from sklearn import metrics as mt\n",
    "\n",
    "\n",
    "## Visualización\n",
    "from plotnine import *\n",
    "import matplotlib.pyplot as plt\n",
    "\n",
    "## Descarga de token de kaggle que permite acceder al set de datos\n",
    "json_response= requests.get(\"https://raw.githubusercontent.com/HectorHenriquez/basic-programming-for-radiologists/main/kaggle.json\")\n",
    "\n",
    "token = json.loads(json_response.text)\n",
    "with open(\"kaggle.json\", \"w\") as outfile:\n",
    "    json.dump(token, outfile)\n",
    "\n",
    "## Carga de set de datos desde kaggle\n",
    "!mkdir -p ~/.kaggle\n",
    "!cp kaggle.json ~/.kaggle/\n",
    "!chmod 600 ~/.kaggle/kaggle.json\n",
    "!kaggle datasets download -d alexteboul/diabetes-health-indicators-dataset\n",
    "!unzip diabetes-health-indicators-dataset.zip"
   ]
  },
  {
   "cell_type": "code",
   "execution_count": null,
   "metadata": {
    "colab": {
     "base_uri": "https://localhost:8080/"
    },
    "id": "nRGN9NkgxezS",
    "outputId": "997b4e1d-8f5b-4e53-b0ba-f345ae4a90b4"
   },
   "outputs": [],
   "source": [
    "pd.set_option('display.max_columns', None)\n",
    "\n",
    "data = pd.read_csv('/content/diabetes_binary_health_indicators_BRFSS2015.csv')\n",
    "\n",
    "data.shape"
   ]
  },
  {
   "cell_type": "code",
   "execution_count": null,
   "metadata": {
    "colab": {
     "base_uri": "https://localhost:8080/",
     "height": 226
    },
    "id": "L6SXN0MWyDe7",
    "outputId": "0751a885-a0a2-482c-9c9f-79ba9241f317"
   },
   "outputs": [],
   "source": [
    "data.head(5)"
   ]
  },
  {
   "cell_type": "code",
   "execution_count": null,
   "metadata": {
    "colab": {
     "base_uri": "https://localhost:8080/"
    },
    "id": "Gg9f7KA1xutP",
    "outputId": "69350c76-2bfb-4ded-9bb1-f5aef2fe2373"
   },
   "outputs": [],
   "source": [
    "## Ver nombre de las columnas\n",
    "data.columns"
   ]
  },
  {
   "cell_type": "code",
   "execution_count": null,
   "metadata": {
    "colab": {
     "base_uri": "https://localhost:8080/"
    },
    "id": "kVWPD8Bax1UV",
    "outputId": "68c7e8f7-3e7c-4f22-d58c-3e1ae10fc7e6"
   },
   "outputs": [],
   "source": [
    "## Etiquetas:\n",
    "## 0: normal; 1: pre-diabetes; 2: diabetes\n",
    "data.Diabetes_binary.unique()"
   ]
  },
  {
   "cell_type": "code",
   "execution_count": null,
   "metadata": {
    "id": "1nqWeXrzU3gw"
   },
   "outputs": [],
   "source": []
  },
  {
   "cell_type": "code",
   "execution_count": null,
   "metadata": {
    "colab": {
     "base_uri": "https://localhost:8080/"
    },
    "id": "19UX5ms9yGs6",
    "outputId": "e3e13da2-3894-4857-df20-6e1fc989499e"
   },
   "outputs": [],
   "source": [
    "## Cantidad de pacientes en cada clase\n",
    "Counter(data.Diabetes_binary)"
   ]
  },
  {
   "cell_type": "code",
   "execution_count": null,
   "metadata": {
    "colab": {
     "base_uri": "https://localhost:8080/"
    },
    "id": "60bAfngfx4Xo",
    "outputId": "5f61884c-a496-41b7-a5af-7de552bf3afe"
   },
   "outputs": [],
   "source": [
    "data.info()"
   ]
  },
  {
   "cell_type": "code",
   "execution_count": null,
   "metadata": {
    "colab": {
     "base_uri": "https://localhost:8080/",
     "height": 320
    },
    "id": "LzOMSfLVyFQl",
    "outputId": "033b3156-9215-4a3c-ebf2-df292431f208"
   },
   "outputs": [],
   "source": [
    "data.describe()"
   ]
  },
  {
   "cell_type": "markdown",
   "metadata": {
    "id": "UCYi-a9u8bj1"
   },
   "source": [
    "### Exploración de datos"
   ]
  },
  {
   "cell_type": "code",
   "execution_count": null,
   "metadata": {
    "colab": {
     "base_uri": "https://localhost:8080/",
     "height": 226
    },
    "id": "X-_lxhQY8dGF",
    "outputId": "c732ea1b-e84b-4c85-9afc-f0852c3aa697"
   },
   "outputs": [],
   "source": [
    "data.head(5)"
   ]
  },
  {
   "cell_type": "code",
   "execution_count": null,
   "metadata": {
    "colab": {
     "base_uri": "https://localhost:8080/",
     "height": 514
    },
    "id": "ZsxZPftIyoV2",
    "outputId": "1aa108fc-24bf-42b7-8b6b-553a559f9e09"
   },
   "outputs": [],
   "source": [
    "\n",
    "(\n",
    " ggplot(data)+\n",
    " aes(y=data.Income, x='factor(Diabetes_binary)', fill='factor(Diabetes_binary)')+\n",
    " geom_boxplot(show_legend=False) +\n",
    " labs(title='Distribución de Income según la variable target', x ='Clase', fill='Clase')+\n",
    " theme_bw()\n",
    ")"
   ]
  },
  {
   "cell_type": "code",
   "execution_count": null,
   "metadata": {
    "colab": {
     "base_uri": "https://localhost:8080/",
     "height": 514
    },
    "id": "ISt1TlXrWNy9",
    "outputId": "d8d24660-6b14-4cf3-e905-43509f74913e"
   },
   "outputs": [],
   "source": [
    "(\n",
    " ggplot(data)+\n",
    " aes(y=data.BMI, x='factor(Diabetes_binary)', fill='factor(Diabetes_binary)')+\n",
    " geom_boxplot(show_legend=False) +\n",
    " labs(title='Distribución de BMI según la variable target', x ='Clase', fill='Clase')+\n",
    " theme_bw()\n",
    ")"
   ]
  },
  {
   "cell_type": "code",
   "execution_count": null,
   "metadata": {
    "colab": {
     "base_uri": "https://localhost:8080/"
    },
    "id": "2l1-9zsWWZGv",
    "outputId": "83a9aa25-73ee-4f81-f233-21a5388bba62"
   },
   "outputs": [],
   "source": [
    "### Evaluación de BMI\n",
    "\n",
    "data.BMI"
   ]
  },
  {
   "cell_type": "code",
   "execution_count": null,
   "metadata": {
    "colab": {
     "base_uri": "https://localhost:8080/"
    },
    "id": "_cWUSgdQWnwS",
    "outputId": "a1722e4b-bed0-4a04-9736-dabcc472e669"
   },
   "outputs": [],
   "source": [
    "data.Diabetes_binary == 1"
   ]
  },
  {
   "cell_type": "code",
   "execution_count": null,
   "metadata": {
    "colab": {
     "base_uri": "https://localhost:8080/"
    },
    "id": "wyNn_eB9WiOr",
    "outputId": "bcc6fb9a-e5f0-4b6a-818d-41a84886e05e"
   },
   "outputs": [],
   "source": [
    "bmi_diabetes = data[data.Diabetes_binary == 1]['BMI']\n",
    "bmi_normal = data[data.Diabetes_binary == 0]['BMI']\n",
    "\n",
    "print(bmi_diabetes.mean())\n",
    "print(bmi_normal.mean())"
   ]
  },
  {
   "cell_type": "code",
   "execution_count": null,
   "metadata": {
    "colab": {
     "base_uri": "https://localhost:8080/",
     "height": 514
    },
    "id": "uVpCS0cEYfpf",
    "outputId": "0f542101-2546-4430-86ef-b05c1be15eaf"
   },
   "outputs": [],
   "source": [
    "## ## Probar normalidad\n",
    "(\n",
    " ggplot()+\n",
    " aes(x=bmi_normal)+\n",
    " geom_histogram(bins=100, fill='dodgerblue', color='black') +\n",
    " theme_bw()\n",
    ")"
   ]
  },
  {
   "cell_type": "code",
   "execution_count": null,
   "metadata": {
    "colab": {
     "base_uri": "https://localhost:8080/"
    },
    "id": "0avU0ze1XKBa",
    "outputId": "f1624a5f-5255-484a-8ee8-5b77d2d990de"
   },
   "outputs": [],
   "source": [
    "## Test de media: No paramétrico\n",
    "\n",
    "U1, p = mannwhitneyu(bmi_diabetes, bmi_normal)\n",
    "print(p)"
   ]
  },
  {
   "cell_type": "code",
   "execution_count": null,
   "metadata": {
    "colab": {
     "base_uri": "https://localhost:8080/"
    },
    "id": "Kz_K6ZkDZh_2",
    "outputId": "115ebbf5-98f6-4eba-906f-db707d67bce8"
   },
   "outputs": [],
   "source": [
    "### Ajustar modelo simple con pocas variables\n",
    "\n",
    "data.columns"
   ]
  },
  {
   "cell_type": "code",
   "execution_count": null,
   "metadata": {
    "colab": {
     "base_uri": "https://localhost:8080/",
     "height": 226
    },
    "id": "bOTRxyaFZmpp",
    "outputId": "c4ef9cc6-0542-40a1-a273-665db312e577"
   },
   "outputs": [],
   "source": [
    "variables_select = ['Diabetes_binary', 'HighBP', 'HighChol', 'CholCheck', 'BMI', 'Smoker','PhysActivity', 'Fruits', 'Veggies',\n",
    "       'HvyAlcoholConsump','Stroke', 'HeartDiseaseorAttack','DiffWalk','Sex', 'Age', 'Education',\n",
    "       'Income']\n",
    "\n",
    "\n",
    "data_select = data.loc[:,variables_select]\n",
    "data_select.head()"
   ]
  },
  {
   "cell_type": "code",
   "execution_count": null,
   "metadata": {
    "colab": {
     "base_uri": "https://localhost:8080/",
     "height": 444
    },
    "id": "2mrl_murabKY",
    "outputId": "1ca8f2c7-8c6d-4a66-dfc1-137864695fd5"
   },
   "outputs": [],
   "source": [
    "data_select.iloc[:,1:]"
   ]
  },
  {
   "cell_type": "code",
   "execution_count": null,
   "metadata": {
    "colab": {
     "base_uri": "https://localhost:8080/"
    },
    "id": "qKYoYtuGaEFX",
    "outputId": "07be182d-257f-4c4b-aaa9-0da8301679e5"
   },
   "outputs": [],
   "source": [
    "\n",
    "X_train, X_test, y_train, y_test = train_test_split(data_select.iloc[:,1:], data_select.iloc[:,0], test_size=0.3, random_state=10)\n",
    "print(X_train.shape)\n",
    "print(y_train.shape)\n",
    "print(X_test.shape)\n",
    "print(y_test.shape)"
   ]
  },
  {
   "cell_type": "code",
   "execution_count": null,
   "metadata": {
    "id": "wM4365pwawuA"
   },
   "outputs": [],
   "source": [
    "\n",
    "tree_clf = DecisionTreeClassifier()\n",
    "tree_clf = tree_clf.fit(X_train, y_train)"
   ]
  },
  {
   "cell_type": "code",
   "execution_count": null,
   "metadata": {
    "colab": {
     "base_uri": "https://localhost:8080/"
    },
    "id": "y0eVubD0bFUC",
    "outputId": "bd0720c8-a6ef-4d02-fc63-80335f19d3ee"
   },
   "outputs": [],
   "source": [
    "\n",
    "pred_train= tree_clf.predict(X_train)\n",
    "pred_test = tree_clf.predict(X_test)\n",
    "\n",
    "print(classification_report(y_test, pred_test))\n",
    "\n",
    "confusion_matrix(y_test, pred_test, labels=[0, 1])"
   ]
  },
  {
   "cell_type": "code",
   "execution_count": null,
   "metadata": {
    "id": "QVpdwixMbjT8"
   },
   "outputs": [],
   "source": [
    "\n",
    "##Se guardan resultados\n",
    "F1Train = []\n",
    "F1Test =[]\n",
    "\n",
    "## Profundidad máxima a evaluar\n",
    "depth = 30\n",
    "\n",
    "for i in range(1,depth):\n",
    "\n",
    "    tree_clf = DecisionTreeClassifier(splitter='best', max_depth=i)\n",
    "    tree_clf = tree_clf.fit(X_train,y_train)\n",
    "    pred_train = tree_clf.predict(X_train)\n",
    "\n",
    "    pred_test = tree_clf.predict(X_test)\n",
    "\n",
    "    modelF1Train = mt.f1_score(y_train,pred_train, pos_label=1)\n",
    "    modelF1Test = mt.f1_score(y_test,pred_test, pos_label=1)\n",
    "    F1Train.append(modelF1Train)\n",
    "    F1Test.append(modelF1Test)\n",
    "\n",
    "tempDF = pd.DataFrame(columns=['Profundidad', 'F1 Score Train', 'F1 Score Test'])\n",
    "tempDF['Profundidad'] = list(range(1,depth))\n",
    "tempDF['F1 Score Train'] = F1Train\n",
    "tempDF['F1 Score Test'] = F1Test"
   ]
  },
  {
   "cell_type": "code",
   "execution_count": null,
   "metadata": {
    "colab": {
     "base_uri": "https://localhost:8080/",
     "height": 514
    },
    "id": "nOzB_xt7b73b",
    "outputId": "502cbb32-b9dc-495c-f6d2-c8929d83ec18"
   },
   "outputs": [],
   "source": [
    "(\n",
    "ggplot(tempDF) +\n",
    "    aes(x='Profundidad', y='F1 Score') +\n",
    "    geom_line(aes(y='F1 Score Train'), color=\"steelblue\") +\n",
    "    geom_line(aes(y='F1 Score Test'), color =\"darkred\") +\n",
    "    theme_bw() +\n",
    "    scale_x_continuous(breaks=(list(range(0,depth+1))))+\n",
    "    annotate(geom = \"text\", label= \"Train\", x=20, y=0.5, size = 12, color=\"steelblue\") +\n",
    "    annotate(geom = \"text\", label= \"Test\", x=20, y=0.4, size = 12, color=\"darkred\") +\n",
    "    labs(title='F1 Score según profundidad')\n",
    ")"
   ]
  },
  {
   "cell_type": "code",
   "execution_count": null,
   "metadata": {
    "colab": {
     "base_uri": "https://localhost:8080/"
    },
    "id": "OU7YMSDtcUjC",
    "outputId": "89ad63fb-4d3d-46b6-ac4d-26a28973de9d"
   },
   "outputs": [],
   "source": [
    "\n",
    "tree_clf = DecisionTreeClassifier(max_depth=6)\n",
    "tree_clf = tree_clf.fit(X_train, y_train)\n",
    "pred_test = tree_clf.predict(X_test)\n",
    "\n",
    "print(classification_report(y_test, pred_test))\n",
    "\n",
    "confusion_matrix(y_test, pred_test, labels=[0, 1])"
   ]
  },
  {
   "cell_type": "code",
   "execution_count": null,
   "metadata": {
    "id": "pkXMZ144dUpS"
   },
   "outputs": [],
   "source": []
  }
 ],
 "metadata": {
  "colab": {
   "provenance": []
  },
  "kernelspec": {
   "display_name": "Python 3 (ipykernel)",
   "language": "python",
   "name": "python3"
  },
  "language_info": {
   "codemirror_mode": {
    "name": "ipython",
    "version": 3
   },
   "file_extension": ".py",
   "mimetype": "text/x-python",
   "name": "python",
   "nbconvert_exporter": "python",
   "pygments_lexer": "ipython3",
   "version": "3.9.13"
  }
 },
 "nbformat": 4,
 "nbformat_minor": 4
}
