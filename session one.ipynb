{
 "cells": [
  {
   "cell_type": "markdown",
   "metadata": {
    "id": "dtxqWVxUopQ8"
   },
   "source": [
    "# Introducción a Python - Sesión 1"
   ]
  },
  {
   "cell_type": "markdown",
   "metadata": {
    "id": "eQs3xdtrXsmK"
   },
   "source": [
    "## Primer programa"
   ]
  },
  {
   "cell_type": "code",
   "execution_count": null,
   "metadata": {
    "colab": {
     "base_uri": "https://localhost:8080/"
    },
    "id": "IQHaPez0X5K_",
    "outputId": "99d97c38-3e9c-4d9a-9637-2aa7d83e7506"
   },
   "outputs": [],
   "source": [
    "print(\"¡Hola, mundo radiológico!\")"
   ]
  },
  {
   "cell_type": "markdown",
   "metadata": {
    "id": "FmrBBBNeWhZ9"
   },
   "source": [
    "## Variable\n",
    "Una variable es un elemento nominado en la memoria del computador, al que se le asigna un cierto contenido (texto, número, lista, diccionario, etc), al que se puede acceder a partir de su nombre todas las veces que sea requerido."
   ]
  },
  {
   "cell_type": "code",
   "execution_count": null,
   "metadata": {
    "colab": {
     "base_uri": "https://localhost:8080/"
    },
    "id": "S31SsluQoWMF",
    "outputId": "1c69d7c4-02fa-4369-cfab-fe75858077e3"
   },
   "outputs": [],
   "source": [
    "nombre = \"Fulanito\"\n",
    "print(nombre)"
   ]
  },
  {
   "cell_type": "markdown",
   "metadata": {
    "id": "aCjhuNJ4XGu3"
   },
   "source": [
    "**Tip:** existen ciertos términos que no pueden ser utilizados como nombres para una variable"
   ]
  },
  {
   "cell_type": "code",
   "execution_count": null,
   "metadata": {
    "colab": {
     "base_uri": "https://localhost:8080/",
     "height": 142
    },
    "id": "E4aL_ZbObANN",
    "outputId": "c9f33993-838c-4c3c-e38e-a016e5694c54"
   },
   "outputs": [],
   "source": [
    "True = \"Es cierto\"\n",
    "print(True)"
   ]
  },
  {
   "cell_type": "code",
   "execution_count": null,
   "metadata": {
    "colab": {
     "base_uri": "https://localhost:8080/"
    },
    "id": "21lg-McZDBHN",
    "outputId": "fa4870b4-05e7-4f89-8282-25bdb1d84325"
   },
   "outputs": [],
   "source": [
    "#@title Solution\n",
    "\n",
    "print(\"Hola Mundo\")\n",
    "\n"
   ]
  },
  {
   "cell_type": "code",
   "execution_count": null,
   "metadata": {
    "colab": {
     "base_uri": "https://localhost:8080/",
     "height": 130
    },
    "id": "psp4TLQvfZ6K",
    "outputId": "70196cf6-a938-4780-fdef-d1ab72383150"
   },
   "outputs": [],
   "source": [
    "m&m = \"Dulce pequeño y ovalado\""
   ]
  },
  {
   "cell_type": "markdown",
   "metadata": {
    "id": "G22ddcnEYYFz"
   },
   "source": [
    "## Tipos de variables"
   ]
  },
  {
   "cell_type": "markdown",
   "metadata": {
    "id": "9gS66QABZdns"
   },
   "source": [
    "### Strings\n",
    "Son variables que contienen texto. Para que el texto se reconozca como tal, debe ir entre comillas"
   ]
  },
  {
   "cell_type": "code",
   "execution_count": null,
   "metadata": {
    "id": "a-gPONj4cpFT"
   },
   "outputs": [],
   "source": [
    "# Ejercicio 1: cree e imprima una variable denominada definicion_string, cuyo contenido sea el texto inmediatamente anterior\n"
   ]
  },
  {
   "cell_type": "code",
   "execution_count": null,
   "metadata": {
    "cellView": "form",
    "colab": {
     "base_uri": "https://localhost:8080/"
    },
    "id": "NBxYpD4ADSkr",
    "outputId": "ff60ea4e-3596-4afe-9705-92feaed9c1e6"
   },
   "outputs": [],
   "source": [
    "#@title Solución ejercicio 1:\n",
    "\n",
    "definicion_string = \"Son variables que contienen texto. Para que el texto se reconozca como tal, debe ir entre comillas\"\n",
    "print(definicion_string)"
   ]
  },
  {
   "cell_type": "markdown",
   "metadata": {
    "id": "LYaKaLfgontB"
   },
   "source": [
    "### Numéricas\n",
    "Son variables que contienen expresiones numéricas. Estas pueden ser enteros (int), decimales (float) o números complejos"
   ]
  },
  {
   "cell_type": "code",
   "execution_count": null,
   "metadata": {
    "id": "swTJ1TYwfzLG"
   },
   "outputs": [],
   "source": [
    "# Ejercicio 2: cree e imprima una variable cuyo componente entero sea su edad y el componente decimal sea 5"
   ]
  },
  {
   "cell_type": "code",
   "execution_count": null,
   "metadata": {
    "cellView": "form",
    "colab": {
     "base_uri": "https://localhost:8080/"
    },
    "id": "NT0_zjLPjO1v",
    "outputId": "876b8bb8-9b80-48a4-ee9f-af0d2bbeb8d3"
   },
   "outputs": [],
   "source": [
    "#@title Solución ejercicio 2:\n",
    "\n",
    "numero = 26.5\n",
    "print(numero)"
   ]
  },
  {
   "cell_type": "markdown",
   "metadata": {
    "id": "K8h5Txk2g5Ns"
   },
   "source": [
    "### Booleanos\n",
    "Son variables que sólo pueden tomar dos valores: verdadero (True) o falso (False)"
   ]
  },
  {
   "cell_type": "code",
   "execution_count": null,
   "metadata": {
    "colab": {
     "base_uri": "https://localhost:8080/"
    },
    "id": "E1ROy206hZWK",
    "outputId": "970f27fb-f365-4037-eead-f2f20247c049"
   },
   "outputs": [],
   "source": [
    "mi_casa = True\n",
    "print(mi_casa)"
   ]
  },
  {
   "cell_type": "code",
   "execution_count": null,
   "metadata": {
    "colab": {
     "base_uri": "https://localhost:8080/"
    },
    "id": "FN4HdPTljugh",
    "outputId": "eaeb9d3a-46ee-4378-9339-dc0c3bd7879e"
   },
   "outputs": [],
   "source": [
    "# Ejercicio 3: jugando Monopoly perdió su casa. Modifique la variable \"mi_casa\"\n"
   ]
  },
  {
   "cell_type": "code",
   "execution_count": null,
   "metadata": {
    "cellView": "form",
    "colab": {
     "base_uri": "https://localhost:8080/"
    },
    "id": "eupyMIYWDpz0",
    "outputId": "e79ae238-819c-494e-f632-5d4731bf3a9f"
   },
   "outputs": [],
   "source": [
    "#@title Solución **ejercicio 3**:\n",
    "\n",
    "mi_casa = False\n",
    "print(mi_casa)"
   ]
  },
  {
   "cell_type": "markdown",
   "metadata": {
    "id": "PKQd_EyhAUpi"
   },
   "source": [
    "Tip: para conocer el tipo de una variable, se puede usar la función type"
   ]
  },
  {
   "cell_type": "code",
   "execution_count": null,
   "metadata": {
    "colab": {
     "base_uri": "https://localhost:8080/"
    },
    "id": "TYbOIU0UAhSh",
    "outputId": "2a40f1c2-b15c-4587-f8c5-8a757aece413"
   },
   "outputs": [],
   "source": [
    "print(type(nombre), type(numero), type(mi_casa))"
   ]
  },
  {
   "cell_type": "markdown",
   "metadata": {
    "id": "E5PUYFPskcKL"
   },
   "source": [
    "## Operaciones con \"strings\""
   ]
  },
  {
   "cell_type": "markdown",
   "metadata": {
    "id": "Juviql-umbSu"
   },
   "source": [
    "### Recuento de caracteres (len)"
   ]
  },
  {
   "cell_type": "code",
   "execution_count": null,
   "metadata": {
    "colab": {
     "base_uri": "https://localhost:8080/"
    },
    "id": "hIWS6_BXmldm",
    "outputId": "a4066ea5-c611-4f92-f099-8c6592dfb726"
   },
   "outputs": [],
   "source": [
    "print(len(nombre))"
   ]
  },
  {
   "cell_type": "markdown",
   "metadata": {
    "id": "1ZjZtPvapoWi"
   },
   "source": [
    "### Acceso a un determinado carácter\n",
    "Un string está formado por distintos caracteres, a los que se puede acceder dependiendo de su posición, partiendo desde el 0. Este número se denomina como índice, y debe ir entre corchetes. También se puede acceder a los caracteres en forma inversa, en donde el último carácter correspondería al índice -1, como se muestra en la siguiente imagen:\n",
    "\n",
    "![image.png](data:image/png;base64,iVBORw0KGgoAAAANSUhEUgAAAcAAAAB7CAYAAADjX1BxAAAAAXNSR0IArs4c6QAAAARnQU1BAACxjwv8YQUAAAAJcEhZcwAADsMAAA7DAcdvqGQAABFHSURBVHhe7d3Pax3VG8fx6fc/0IVCCaUkAXGhS0FJKogk2bgQRJquggsxAUGhNC4CIgQ0oaAgNJKFdNUEKbhwkwTpJqHu3YiQhCKloIj+Cf3O5zhPeub0/p65cyY97xeM987cuTPPPXPmPGfOTOOFx7kMAIDE/K94BQAgKSRAAECSSIAAgCSRAAEASSIBAgCSRAIEACSJBAgASBIJEACQJBIgACBJ/CWYFrlw4ULxDgBQVb/0RgJsESXAO3fuFHPxXLt2jTg8xFFGHGXEUdamOPqlN4ZAAQBJIgECAJJEAgQAJIkECABIEgkQAJAkEiAAIEkkQABAkkiAAIAkkQABAEkiAQIAkkQCBAAkiQSIJPz000/ZV199VcwhNh0LHRO0z6effpp9//33xdyzrfYEqD/o7E9N2tzczBYWFoq5tKjS6o+/2qR5tEdKjQrOL9XRt956K/vggw+KJc+22hLg6empS3gbGxvuL3BrOjw8TDYhxfDxxx+7v8Ku6cUXX+SKp0W+/vrrZBoVnF+qo++8804x9+yrLQGurKxky8vL2Y0bN4olWTYzM5Pt7e2595Ygbdrd3XXLRUlS8/aZ1j06Oiqtr3kTbkufaf+rq6vZ/v6+W2aJN1xXV4mm035lenr6bJmfwHv9hrZ58803sz///LOYa5Z/NRrrquevv/4qXRHH1oYhP788GCFoT3n4cdgUSxvqaZPtR20JUInnypUrxdzTpqamzq4Md3Z2ssXFxeKT/2j+5OTk7P/ftLS0dLa+rio1b7QtbUOf6Tvr6+vZrVu33Hrz8/NuuSVef11NSpJ+MvX3Ozk56RLe3Nzc2fpiSVNJ1r/CvXr1qlveRj/88EP2yiuvFHPN0Qn00UcfuavQb775Jvv555+z33//vfi0OV9++aU7thaH6kDK1JhYeTBC0J7y0D7ffvttF8Pnn3/ulqm+pqrp9qPWe4ATExPFu6dZMpHXXnvNvdoVlyixKAGJXo+Pj917eeONN1ySEl11KalZ8tG6luxC4bqiq1QVrvH3q3iUyK9fv+7mRYl3e3u7mMuye/fuFe/a59tvvz3rOb3//vtRhtw+++yz7KWXXnLvX3jhBdew/PPPP26+KTphdPVrQzmKQ41dqn755Rd3HPyhrXfffTf79ddfi7m0tKk8VE9ffvll997Om3///de9pqjp9qP2h2C68YcalZT60VWXrT87O1ss/Y+GKAelxGnb0bS1tVV80p3is/X9htMSrZYPE0NT7B6gYlYyjCEceow1DKsTB0+E5fHcc8+5Vx2vFLWlPBTHb7/95t7blY7FkqKm24/aEqCGHv0rK5+GHNUo21CjXc11o2SpoUobatTDND7/6rAfJTPbjk0aLu3F4rTJ35+SoJYpAWpItI3Us9WJFWMs/5NPPnnqYZwYYiXetgrLw64y1MtOUZvKQ8N8auy/+OILd+6kekyk6fajtgS4trbmrq78B0M0pOg/RGJDjXfv3nWvvfhXiX5i1fCpEpTtx9/HpUuXSslKQ5/+uv0oPiXymzdvFku6s9/SVnqUOdZw7fPPP+9ebSiyaTaEYh0AxZHyPcDXX3/dHQe/Q/Tjjz+6e08palN5aNhV97qswVdsqWuy/agtAeqJTyUbXenZ8KGSmK6Y9JnuvdnyBw8eFN/qTInLfxLTp8SjK0Lbj/ZhV3SW8LTcrs7CmDT1SoiK9+DgoLS+bctfpnX6XUnGpKtAVR7d72iSem/qyapH+91332Wvvvpq8Umz9ECBkp7FobhSZg8C2dCSrjJS/mcZbSkP1Utd9VgcmmwoNEVNtx8XHms8D62gxOpf7caiykccTxBHGXGUjRqH7ncp+SkZ27CnOqx6glv/bnRYHJcyxdEvvTX2EAwA4IlO9x3//vvvaPfNU0QCBIAIdK9at2d0pWKT7tvrnwKgGSRAAIhE9+o1XGjTKEOfGB0JEACQJBIgACBJJEAAQJJIgACAJJEAAQBJIgECAJJEAgQAJIkECABIEn8LtEX0t0ABAPXol95IgC2iBNiGw0EcZcRRRhxlxFF2nuJgCBQAkCQSIAAgSSRAAECSSIAAgCSRAAEASSIBAgCSRAIEACSJBAgASBIJEACQpFYkwOnp6WxhYaGYAwBg/KInQP25mvX19Wxvb69YAgDA+EVPgPpbbVevXi3mhrO7u+uuHgEAGFbUBHh6euquAPVa1dHRkduWXlOlzoDKQFPMjoEd15gxWH2waXNzs/ikWWEcKysrxSfxWCwx6Pf75aFJHdkYwmPT9G0YO086TXW0icMKY4ghLJNxH5Nn5iGYmZkZdzWp1xSpoijhqAw06X2M+6pq4Obm5rKdnZ1iSRxLS0vZycmJK4vDw8NsdXU1SucojGNraytqJ03HZ35+vpiLY3l5+ayeahp1BKgKHYPZ2dmzY6Op6dswk5OTpXLQtLGx4Y6PPmuS2gvt2+LQMYrRfkxNTZXiOD4+HmvntVUJUD9UJ6gK3noAYe/Q7x388ccfxdLOV5M6qLauX4hhL/S802/e39/Pbt26VSzJsrW1Nbes6Z6kYlCljU0xWCOiTpFOrIcPH7r5JrUlDlGjf3Bw4OpG6vTcgTppTSeaftRRU6cphkuXLhXvsuzy5cvFu+ZYx/DGjRvuVXSctre3i7kxyLNsNHnvS/+zJvcqeeZ383nFdPN69UPMe0aP855JMZd3D/LP8gbFvQ+3Fa5r62kf9l40r3XbwP+tw8ivLJ76rpWHPhvWqHH4dOz8ch5FHXGYUctC6oojrM/DqhqHlUGn+jKMKt/VOanv21Tl3Kv6G1Q//Vhi14+wbRpWlTisbqoM7L21pcMaNQ5rs7R/U6WuDvK9eo7ciMKk1SkZ2efhuuI3sv7nndY1Wt8v4F7rNk1xjKJbJdGyUU7qUePw+cdmVHXEIWp0YzW0Vr9sqlLPqsShMrAOYZVGRap8N6Rt+R3VYVT9DX47YJ3vUdRVHmFMw6oah9WLmHFovxaDP41ikO+di3uAjx49Kt79N24+qG7rLi4ung1/5o10sfTZ0vTQZ1tpCF333WL9MxvVwfw8O5tU3zQE3yQNLakM/CHytsgTjxuWjWFiYqJ4l2Xvvfeee4113titnhj3Q0W3nTTcaPVUw+Qx7gHq9/vnS54Qx9pGn7uHYIapoN3WVaH6haypbfcChnHx4kX36v9e6zSk+lCQqFFRZye/6iqWxKcGv+lG9v79++7VOn16+MPmYz2B6YvxtLAa1Vj3YjtRwlHdiEEdJD0v4HcS1SmJ8QxB6Pbt2+6hurHJG/9owuHHbkOgNoynITUbLrHvapk/b9vy1xVbT/uw921T5XCEv1flGGNoyWgoo2o5V4lDx7mO3yGjbkd1MSyD8DgNo67fE2sIVOXhn992zo463FblN+gY+MdG86MOk1c9LjbsV1WV4xIehyrnTx2/RSwGa9OHNUgc9UQ6Iit4+4H9EqCtb5OWWyUOtyX+uv7BVWX3P6vaUNdFsVTh/6ZRT2apEkdYtppGLd8qcYQxaIoRR1gemh9VlTh8sRKgqF5aWWgaNflJlThE9cHiqNIG1BFHlXphqsRhSdif/LZ0GFXiqCsGGSSOC/pPviJaQENSbTgcxFFGHGXEUUYcZecpjmfmH8IDADAMEiAAIEkkQABAkkiAAIAkkQABAEkiAQIAkkQCBAAkiQQIAEgSCRAAkCQSIAAgSfwptBbRn+4BANSjX3ojAbYIf8uvjDjKiKOMOMqIo2yQOBgCBQAkiQQIAEgSCRAAkCQSIAAgSSRAAECSSIAAgCSRAAEASSIBAgCSRAIEACRp4ASof1W/srJSzAEAcL71TYCnp6cu+R0eHma3bt0qlgIAcL6N/W+Bbm5uZvfu3cv29vaKJeiGv+VXRhxlxFFGHGXEUTZIHH2vAI+OjtyG6rC7u+u2pavKOtjVqbabOg1PdysLLbdpYWGhWDp+09PTpX3Hot/sx6E63bSwLGyKVXfDOJpmbYE/xb7FYvUkRv0QvyxUX2Lx42iyvejEzpu6ckao0Ydgrl696jLy5ORksaQabUfb03ZTZZ2AK1euZFNTU8XSJ1SBlpeXXTlpOj4+bqSh0Ymjfdt+FUOMk8l+q8Wxs7OTzc7OumVNUrlbDJp0S0Fi1F3VF5WDH08Mqq9+DDFvscTuRKue+sfk5OTEjZ41LYxjf38/ShzWQbp9+3axZEzyH9lTfqLq7CjmHj/OG7LHGxsbj/PK65Zr0jomP3BnyzVp3fn5efdZuC3x180Lvlj62H3Hlmtf3ehz23+v2Pz3YnHqVfzvWLyimDSvbeszbd9+h03+dv3taBrGsOuHtG+/DC1Onz7vt5+qcYi20au8B1FHHDpumkynMumnjjhCVqeGUUccqr/D7jdURxyqh73O60HUeVy0Laujfr0dRJ1xmLDeDuJZjGOUdsMMEsdIV4Crq6suM+ffz/ITKltaWio+ybK5uTm3TJ/lQbt1u9EVgq2raW1tzS0Pe+3a5qBXLd1iyxuc7M6dO+693L171y3TVaSuTLQP25/4vR71gi5fvuw+u3HjhttmfgKfrT8zM+PW0+/xt5NXHLcslocPHz51VTgxMeFexzWkYLRfv7ztqv/Ro0futSnXr1/Ptra23PHUb9bVn45dTBpiU51SbE3T/fiDgwPXu7YpRg9f1D74ccSi819tRV0jU1WpnqrOXrt2rVgSj2JR2/fMyhvqnsIec9gjsAwtnXrXecXqeAXYqyeu5X4vbNB1e8UWXvnY1ZKto1fj907990bz/n6kU4ydtt1L+P1h2W8ynWIfJKaqcYjtJ5z849qP1q+L7T88boOoMw4Z5epP6ogj3LfV21jHxSiusK72U0cc4TkybFlIXeWhOLQtTf55PKi64jCKYZRt1hnHsG2ob5A4arsHaFcU+UF0r4Pota566tYzrHrPRrHZvRb1vjXlBVq6/6JYbH+Li4vF0s50P8d60f59rfD31H3VEz44MMrN+nFcgenq3I9L7P6sTSpvuXjxonsdh05x6OpG7y0Osc/GpVMcRnVRV39N9O67xeH36DV6oXqr0YJx6VUeRqM/qiPWjoxDpzh0ro/9PlOgW3n494kV07hHj/rVU5VN3hkolozPIPVjXGp/CMYaukH0WlcFb5XBpqrynq8blrt//75771Ms/r5UGXuxyqpXG0IKf4+dzHU1+vYQkU029NqNhjvDmGxYtM7hHj284MfViYac695vqFMcGhL3T2KtozjG+dBDr/K4efOmG3rvd+zq0CkOlf+DBw/c+6YMUj9Mk/XDOpB+Z9vm1SiPyyDlYR2CceoWh9otnSP5FWC0etqUWhOgFZYlBFWwbvcAw3XFejxKTuvr6+59ndTr1tj69vb2WQ9cJ5waJDVMo7CY9XtUafwTxxq7cZ7UvXQqY51YH374YTHXDKsH4zim/eiY+Pci7erf7oU2SQ2L6p/d645BTwsrBuucqSOg8mj6adTw6kb31cNO6bjp/PAbXmt81WFSo9wklYcdE1GdVd1tms4P7VdlEOMJ5cblB72nvCBUK4q57vfZ9Cq2vqa8IN04ssb3/c+MfdcmfW70Hf8z20bI/16/2EQxaQppmb8/2054jyCMOYyr12f96DvDCuOxye4hhJ/75dON1qsqPH4WzzDqiKNT+QwbSx1xiMq+U90bVJ1x+OXhnx+DqCMOPRvgxzBIvQzVEUdI2/TboUHUEYfqpJWFplHqSR1xhOetTcPUEa1fVVgeNtUdx9j/EgwGpyGYNhwO4igjjjLiKCOOsvMUR6P/EB4AgLYgAQIAkkQCBAAkiQQIAEgSCRAAkCQSIAAgSSRAAECSSIAAgCSRAAEASSIBAgCSRAIEACSJvwXaIvrbdQCAevRLbyRAAECSGAIFACSJBAgASBIJEACQJBIgACBJJEAAQJJIgACAJJEAAQAJyrL/A6F/3JZpNq3sAAAAAElFTkSuQmCC)"
   ]
  },
  {
   "cell_type": "code",
   "execution_count": null,
   "metadata": {
    "colab": {
     "base_uri": "https://localhost:8080/"
    },
    "id": "yQuTpxsM5AWY",
    "outputId": "384f6ebe-c548-4b17-b0a4-242f9dec20ec"
   },
   "outputs": [],
   "source": [
    "palabra = \"Radiología\"\n",
    "print(palabra[0])"
   ]
  },
  {
   "cell_type": "code",
   "execution_count": null,
   "metadata": {
    "id": "RAkzpoe0pn5z"
   },
   "outputs": [],
   "source": [
    "# Ejercicio 4: Obtenga la segunda letra de su nombre y la penúltima letra de su apellido"
   ]
  },
  {
   "cell_type": "code",
   "execution_count": null,
   "metadata": {
    "cellView": "form",
    "colab": {
     "base_uri": "https://localhost:8080/"
    },
    "id": "yPmUirCYD5h9",
    "outputId": "d3e3cdf3-5e79-46d8-fe0a-8b27a0c90cbd"
   },
   "outputs": [],
   "source": [
    "#@title Solución ejercicio 4:\n",
    "\n",
    "mi_nombre = 'Anacleto'\n",
    "\n",
    "print(\"segunda letra:\", mi_nombre[1])\n",
    "print(\"penúltima letra:\", mi_nombre[-2])"
   ]
  },
  {
   "cell_type": "markdown",
   "metadata": {
    "id": "56Y6gtSj0gYf"
   },
   "source": [
    "**Tip:** el uso de índices inversos es útil cuando no se conoce el total de caracteres de un string"
   ]
  },
  {
   "cell_type": "markdown",
   "metadata": {
    "id": "y3Cp7Yoa1GFg"
   },
   "source": [
    "También se puede acceder a un rango de caracteres dentro de un string, de la siguiente forma:\n",
    "\n",
    "[n:m] = Accede a todos los caracteres desde n a m, incluyendo a ambos\n",
    "\n",
    "[:n] = Accede a todos los caracteres desde el inicio hasta n\n",
    "\n",
    "[n:] = Accede a todos los caracteres desde n hasta el final"
   ]
  },
  {
   "cell_type": "code",
   "execution_count": null,
   "metadata": {
    "id": "NnNyykMdEjkg"
   },
   "outputs": [],
   "source": [
    "## Ejercicio 5: Obtenga las letras entre la posición 2 y 4 de su nombre.\n",
    "## Si su nombre contiene menos de 4 letras puede abandonar el curso.\n"
   ]
  },
  {
   "cell_type": "code",
   "execution_count": null,
   "metadata": {
    "cellView": "form",
    "colab": {
     "base_uri": "https://localhost:8080/"
    },
    "id": "Wq2UF-sjE2k_",
    "outputId": "af6b1ca4-d9c1-4566-b5c7-1a88dfea8bf2"
   },
   "outputs": [],
   "source": [
    "#@title Solución ejercicio 5:\n",
    "\n",
    "print(mi_nombre[1:4])\n"
   ]
  },
  {
   "cell_type": "markdown",
   "metadata": {
    "id": "86E2hgn5k8Uy"
   },
   "source": [
    "### Concatenacion (+)"
   ]
  },
  {
   "cell_type": "code",
   "execution_count": null,
   "metadata": {
    "colab": {
     "base_uri": "https://localhost:8080/"
    },
    "id": "k4zNwh2-kbWH",
    "outputId": "0efda054-fc18-4d23-f1d7-bacaae2d1b85"
   },
   "outputs": [],
   "source": [
    "apellido = \"Pérez\"\n",
    "frase = nombre + apellido\n",
    "print(frase)"
   ]
  },
  {
   "cell_type": "code",
   "execution_count": null,
   "metadata": {
    "id": "9DFankTvmCfS"
   },
   "outputs": [],
   "source": [
    "# Ejercicio 6: Cree variables con nombres y apellidos. A partir de estas,\n",
    "# genere una variable llamada nombre_completo con los espacios correspondientes\n",
    "# e imprímala.\n",
    "\n"
   ]
  },
  {
   "cell_type": "code",
   "execution_count": null,
   "metadata": {
    "cellView": "form",
    "colab": {
     "base_uri": "https://localhost:8080/"
    },
    "id": "fGj7i9URFNjg",
    "outputId": "aa9ddf08-96f4-4e3e-faa9-759f969c2373"
   },
   "outputs": [],
   "source": [
    "#@title Solución ejercicio 6:\n",
    "\n",
    "nombre = 'Susana'\n",
    "apellido = 'Oria'\n",
    "nombre_completo = nombre + ' ' + apellido ## podemos agregar un espacio\n",
    "print(nombre_completo)"
   ]
  },
  {
   "cell_type": "code",
   "execution_count": null,
   "metadata": {
    "id": "j2mVIJC_obSO"
   },
   "outputs": [],
   "source": [
    "# Ejercicio 7: calcule el recuento de caracteres del nombre completo"
   ]
  },
  {
   "cell_type": "code",
   "execution_count": null,
   "metadata": {
    "cellView": "form",
    "colab": {
     "base_uri": "https://localhost:8080/"
    },
    "id": "XpauFSAFGA6P",
    "outputId": "7a8bbbee-3527-4bb2-d8a3-2a23674bcff3"
   },
   "outputs": [],
   "source": [
    "#@title Solución ejercicio 7:\n",
    "\n",
    "print(len(nombre_completo))"
   ]
  },
  {
   "cell_type": "markdown",
   "metadata": {
    "id": "vnh8GTWC0u6k"
   },
   "source": [
    "### Separación de un string\n",
    "Un string se puede separar mediante la función split, de la siguiente forma:\n",
    "\n",
    "variable.split(\"separador\")\n",
    "\n",
    "El separador por default es el espacio, pero se puede escribir algún otro, como por ejemplo una coma u otro string, los que deben ir entre comillas.\n",
    "\n",
    "El resultado es una lista con los elementos separados"
   ]
  },
  {
   "cell_type": "code",
   "execution_count": null,
   "metadata": {
    "colab": {
     "base_uri": "https://localhost:8080/"
    },
    "id": "bUlRj8q25oSd",
    "outputId": "32104fa5-7ea0-4763-c384-bab4d5c9713c"
   },
   "outputs": [],
   "source": [
    "nuevo_texto = definicion_string.split()\n",
    "print(nuevo_texto)"
   ]
  },
  {
   "cell_type": "code",
   "execution_count": null,
   "metadata": {
    "colab": {
     "base_uri": "https://localhost:8080/"
    },
    "id": "1UemmrLI6FWG",
    "outputId": "584cd34f-38e1-4ef5-bd7d-682422492aef"
   },
   "outputs": [],
   "source": [
    "texto_viral = \"Las calilas, las maiga, las mojojojo\"\n",
    "texto_separado = texto_viral.split(\",\")\n",
    "print(texto_separado)"
   ]
  },
  {
   "cell_type": "markdown",
   "metadata": {
    "id": "ncTqXqSkI3KJ"
   },
   "source": [
    "Otros:\n",
    "\n",
    "\n",
    "*   Recuento de caracteres específicos: la función count() permite contar cuántas veces está incluido un determinado string en el string de interés. Por ejemplo, podemos contar cuántos espacios o comas tiene una frase.\n",
    "*   Reemplazo de strings: la función replace(x,y) reemplaza el string x por el string y. Por ejemplo, en una frase podemos reemplazar las comas por espacios\n",
    "*   Encontrar la posición de un string: la función find(x) permite encontrar el string x en el string de interés, entregándonos la posición de este.\n",
    "\n"
   ]
  },
  {
   "cell_type": "markdown",
   "metadata": {
    "id": "CkMxhMkNqE1N"
   },
   "source": [
    "## Operaciones con variables numéricas\n",
    "\n",
    "* suma : +\n",
    "* resta: -\n",
    "* multiplicación: *\n",
    "* división: /\n",
    "* exponencial: **\n",
    "* exponencial: pow( )\n",
    "* raiz cuadrada: math.sqrt( ) ## requiere libreria math\n",
    "* raiz cuadrada: pow(numero, 0.5)\n",
    "* módulo: %"
   ]
  },
  {
   "cell_type": "code",
   "execution_count": null,
   "metadata": {
    "id": "jzp5tbmjFujT"
   },
   "outputs": [],
   "source": [
    "#Usaremos 2 variables para ejemplificar las distintas operaciones:\n",
    "\n",
    "x = 2\n",
    "y = 0.5"
   ]
  },
  {
   "cell_type": "code",
   "execution_count": null,
   "metadata": {
    "colab": {
     "base_uri": "https://localhost:8080/"
    },
    "id": "38MHZvQdF5Qk",
    "outputId": "60615cdd-ca7b-495a-d1fb-1ae6f2753daf"
   },
   "outputs": [],
   "source": [
    "x + y"
   ]
  },
  {
   "cell_type": "code",
   "execution_count": null,
   "metadata": {
    "colab": {
     "base_uri": "https://localhost:8080/"
    },
    "id": "ii0WzIYdGCt8",
    "outputId": "07db569d-97d7-4706-f252-5ff102f23073"
   },
   "outputs": [],
   "source": [
    "x - y"
   ]
  },
  {
   "cell_type": "code",
   "execution_count": null,
   "metadata": {
    "colab": {
     "base_uri": "https://localhost:8080/"
    },
    "id": "WTAPYdiQGJHc",
    "outputId": "cbdc4340-0dec-4c38-eba8-a19fca788b6c"
   },
   "outputs": [],
   "source": [
    "# Se pueden crear nuevas variables a partir de operaciones matemáticas\n",
    "\n",
    "z = x/y\n",
    "print(z)"
   ]
  },
  {
   "cell_type": "code",
   "execution_count": null,
   "metadata": {
    "colab": {
     "base_uri": "https://localhost:8080/"
    },
    "id": "ERXldcDQGd4Y",
    "outputId": "409d6a89-d22d-4f1f-9b35-1c6551c39054"
   },
   "outputs": [],
   "source": [
    "# Existen distintas formas de expresar potencias, equivalentes entre sí\n",
    "\n",
    "print(x**2)\n",
    "print(pow(x,2))"
   ]
  },
  {
   "cell_type": "code",
   "execution_count": null,
   "metadata": {
    "colab": {
     "base_uri": "https://localhost:8080/"
    },
    "id": "4acZiG1oHiUL",
    "outputId": "4d592d74-5823-49b1-a5ba-39922f2aef70"
   },
   "outputs": [],
   "source": [
    "## Raiz cuadrada: una alternativa es expresar la raíz como potencia\n",
    "\n",
    "pow(z,0.5)\n",
    "\n",
    "## Segunda alternativa: Instalar libreria math\n",
    "import math\n",
    "\n",
    "print(math.sqrt(z))"
   ]
  },
  {
   "cell_type": "markdown",
   "metadata": {
    "id": "oOZhJoLmqKL4"
   },
   "source": [
    "## Uso de booleanos\n",
    "\n",
    "En python, es posible evaluar la validez de distintas expresiones. Esto será especialmente útil en el uso de loops con control de flujo"
   ]
  },
  {
   "cell_type": "code",
   "execution_count": null,
   "metadata": {
    "colab": {
     "base_uri": "https://localhost:8080/"
    },
    "id": "h0W2J28E-WdE",
    "outputId": "56135c12-1081-44ea-8651-b78a574b9658"
   },
   "outputs": [],
   "source": [
    "print(1 == 2)\n",
    "print(1 != 2)"
   ]
  },
  {
   "cell_type": "code",
   "execution_count": null,
   "metadata": {
    "colab": {
     "base_uri": "https://localhost:8080/"
    },
    "id": "zMuhsX_sHOgK",
    "outputId": "5f8384db-ca3f-4e19-8378-f07afaf8c4db"
   },
   "outputs": [],
   "source": [
    "print(x**2 == pow(x,2))"
   ]
  },
  {
   "cell_type": "markdown",
   "metadata": {
    "id": "c02CfDyBNQE6"
   },
   "source": [
    "## Ejercicio 8:\n",
    "\n",
    "#### 1. Cree una variable tipo string que contenga más de una palabra.\n",
    "#### 2. Guarde en otra variable la longitud de la primera palabra del string\n",
    "#### 3. Multiplique la longitud de la primera palabra por la longitud total del string.\n",
    "#### 4. Muestre el resultado por pantalla"
   ]
  },
  {
   "cell_type": "code",
   "execution_count": null,
   "metadata": {
    "cellView": "form",
    "colab": {
     "base_uri": "https://localhost:8080/"
    },
    "id": "95oshW_lNTM-",
    "outputId": "710b68df-3c7d-42b6-97b4-e788427e048b"
   },
   "outputs": [],
   "source": [
    "#@title Solución ejercicio 8:\n",
    "\n",
    "## voy a reciclar la variable \"nombre_completo\"\n",
    "longitud_nombre = len(nombre_completo)\n",
    "\n",
    "print(len(nombre_completo.split()[0]) * longitud_nombre)\n"
   ]
  },
  {
   "cell_type": "markdown",
   "metadata": {
    "id": "Vh-SwCSRNTrh"
   },
   "source": [
    "## Ejercicio 9\n",
    "\n",
    "#### 1. Cree una variable a = 2 y una variable b = 5.\n",
    "#### 2. Multipliquelas entre ellas y guarde el valor en una variable c.\n",
    "#### 3. Muestre por pantalla el módulo entre c y 2."
   ]
  },
  {
   "cell_type": "code",
   "execution_count": null,
   "metadata": {
    "colab": {
     "base_uri": "https://localhost:8080/"
    },
    "id": "w9HlLFB7NyFz",
    "outputId": "0a0e9611-bc3a-4cd8-d74f-3c0715a7b3df"
   },
   "outputs": [],
   "source": [
    "#@title Solución ejercicio 9:\n",
    "a = 2\n",
    "b = 5\n",
    "c = a * b\n",
    "print(c%2)"
   ]
  },
  {
   "cell_type": "markdown",
   "metadata": {
    "id": "JU21pnJWLcg6"
   },
   "source": [
    "## Ejercicio 10:\n",
    "\n",
    "Como vimos el módulo (%) corresponde al resto de la división entre dos números.\n",
    "Por definición si tengo un número n par, el módulo entre n y 2 siempre es cero.\n",
    "\n",
    "Cree un programa que verifique que la longitud de una variable string ingresada sea par o impar."
   ]
  },
  {
   "cell_type": "code",
   "execution_count": null,
   "metadata": {
    "cellView": "form",
    "colab": {
     "base_uri": "https://localhost:8080/"
    },
    "id": "ihhxd6g2Lal1",
    "outputId": "fb2d16d7-d1bd-416f-e04a-1cb038edcfe2"
   },
   "outputs": [],
   "source": [
    "#@title Solución ejercicio 10:\n",
    "\n",
    "string_ingresado = input()\n",
    "\n",
    "if len(string_ingresado)%2 == 0:\n",
    "  print(\"La longitud del string: {}, es número par!\".format(string_ingresado))\n",
    "else:\n",
    "  print(\"La longitud del string: {}, es número impar!\".format(string_ingresado))\n"
   ]
  },
  {
   "cell_type": "markdown",
   "metadata": {
    "id": "xBeon99RA_aM"
   },
   "source": [
    "# Recursos sugeridos\n",
    "- Documentación de Python https://docs.python.org/3/index.html\n",
    "- Blockly Games (Set de juegos que apuntan a enseñar principios básicos de programación) https://blockly.games/?lang=es"
   ]
  },
  {
   "cell_type": "markdown",
   "metadata": {
    "id": "TZBK9g_4DhFV"
   },
   "source": [
    "# **¡Nos vemos la próxima sesión!** ✌"
   ]
  }
 ],
 "metadata": {
  "colab": {
   "provenance": [],
   "toc_visible": true
  },
  "kernelspec": {
   "display_name": "Python 3 (ipykernel)",
   "language": "python",
   "name": "python3"
  },
  "language_info": {
   "codemirror_mode": {
    "name": "ipython",
    "version": 3
   },
   "file_extension": ".py",
   "mimetype": "text/x-python",
   "name": "python",
   "nbconvert_exporter": "python",
   "pygments_lexer": "ipython3",
   "version": "3.8.8"
  }
 },
 "nbformat": 4,
 "nbformat_minor": 4
}
