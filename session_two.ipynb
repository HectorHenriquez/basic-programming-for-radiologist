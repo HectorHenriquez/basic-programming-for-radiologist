{
 "cells": [
  {
   "cell_type": "markdown",
   "metadata": {
    "id": "x-hOHEJ5_poR"
   },
   "source": [
    "# Introducción a Python - Sesión 2"
   ]
  },
  {
   "cell_type": "markdown",
   "metadata": {},
   "source": [
    "### Autores: \n",
    "* Dra. Diana Fuentes\n",
    "* Dr. Héctor Henríquez"
   ]
  },
  {
   "cell_type": "markdown",
   "metadata": {
    "id": "O3UOWJgrAYg1"
   },
   "source": [
    "## Estructuras de recolección de datos\n",
    "\n"
   ]
  },
  {
   "cell_type": "markdown",
   "metadata": {
    "id": "Y2zsxM26QdOm"
   },
   "source": [
    "Existen 4 estructuras que nos permiten almacenar datos:\n",
    "\n",
    "*   Tuplas\n",
    "*   Listas\n",
    "*   Sets\n",
    "*   Diccionarios"
   ]
  },
  {
   "cell_type": "markdown",
   "metadata": {
    "id": "ct5jRhiBSLME"
   },
   "source": [
    "### Tuplas\n",
    "\n",
    "Una tupla es una colección de objetos \"inmutable\", por lo que no se puede modificar la posición de los objetos en ella. Tampoco se pueden añadir o remover elementos.\n",
    "\n",
    "Se puede crear mediante el método tuple(iterable) o directamente con el uso de paréntesis"
   ]
  },
  {
   "cell_type": "code",
   "execution_count": null,
   "metadata": {
    "id": "9OuvPg_4TI8P"
   },
   "outputs": [],
   "source": [
    "años = (1939, 1958, 1975, 1976, 1977, 1995)"
   ]
  },
  {
   "cell_type": "code",
   "execution_count": null,
   "metadata": {
    "colab": {
     "base_uri": "https://localhost:8080/"
    },
    "id": "EiKQT77SfCXf",
    "outputId": "e04bb3a5-cef0-486d-d40f-03c0482921c6"
   },
   "outputs": [],
   "source": [
    "print(años == tuple([1939,1958,1975,1976,1977,1995]))"
   ]
  },
  {
   "cell_type": "markdown",
   "metadata": {
    "id": "al0D5PyZXzE_"
   },
   "source": [
    "Se puede acceder a los elementos de una tupla de la misma forma en que se accede a los caracteres de un string\n",
    "\n"
   ]
  },
  {
   "cell_type": "code",
   "execution_count": null,
   "metadata": {
    "colab": {
     "base_uri": "https://localhost:8080/"
    },
    "id": "gLPHLsqWYPfS",
    "outputId": "92c4f196-7b15-400a-bcd2-0078415c3218"
   },
   "outputs": [],
   "source": [
    "print(\n",
    "    \"Último elemento:\", años[-1], \"\\n\"\n",
    "    \"Primeros 3 elementos:\", años[:3], \"\\n\"\n",
    "    \"Inversión de elementos:\", años[::-1]\n",
    ")"
   ]
  },
  {
   "cell_type": "code",
   "execution_count": null,
   "metadata": {
    "id": "HfDrCfAnb4rK",
    "outputId": "983202e4-1383-4651-aa10-34f4b92a7987"
   },
   "outputs": [],
   "source": [
    "print(años) # ¿Qué ocurrirá al imprimir la variable inicial?"
   ]
  },
  {
   "cell_type": "markdown",
   "metadata": {
    "id": "qHtDDiCWRAaS"
   },
   "source": [
    "### Listas\n",
    "\n",
    "Las listas también permiten almacenar múltiples objetos, pero a diferencia de las tuplas, las listas son mutables, lo que permite realizar una gran cantidad de operaciones, las que revisaremos al final de esta sesión.\n",
    "\n",
    "Se pueden crear a partir del método list(iterable) o simplemente con el uso de corchetes []."
   ]
  },
  {
   "cell_type": "code",
   "execution_count": null,
   "metadata": {
    "colab": {
     "base_uri": "https://localhost:8080/"
    },
    "id": "ornV5OiSTsqE",
    "outputId": "cb4d0923-403f-42a8-941c-eb20b6c74c83"
   },
   "outputs": [],
   "source": [
    "semestre = [6.5, 7.0, 5.9, 6.6] # Estas fueron nuestra notas parciales\n",
    "promedio = sum(semestre)/len(semestre)\n",
    "print(promedio)"
   ]
  },
  {
   "cell_type": "code",
   "execution_count": null,
   "metadata": {
    "colab": {
     "base_uri": "https://localhost:8080/"
    },
    "id": "hZJhC1YyU2OG",
    "outputId": "f3f1079e-b63f-43fd-c7f0-82ebe70bf724"
   },
   "outputs": [],
   "source": [
    "semestre.append(7.0)  # Recibimos otra nota, un sietazo\n",
    "promedio = sum(semestre)/len(semestre)\n",
    "print(promedio)"
   ]
  },
  {
   "cell_type": "code",
   "execution_count": null,
   "metadata": {
    "colab": {
     "base_uri": "https://localhost:8080/"
    },
    "id": "Whm6hAvMVJ1B",
    "outputId": "d4db9e6d-72df-4bf6-a36f-379c6699503d"
   },
   "outputs": [],
   "source": [
    "print(semestre)"
   ]
  },
  {
   "cell_type": "markdown",
   "metadata": {
    "id": "_vupI86tSCbO"
   },
   "source": [
    "### Sets\n",
    "\n",
    "Un set es una estructura inmutable y no indexada de objetos, que no admite elementos duplicados. A diferencia de las tuplas, sí se le pueden añadir elementos.\n",
    "\n",
    "Puede ser creada a partir del método set(iterable) o directamente con el uso de llaves {}"
   ]
  },
  {
   "cell_type": "code",
   "execution_count": null,
   "metadata": {
    "id": "J9s2GugepVzY"
   },
   "outputs": [],
   "source": [
    "frutas = {\"pera\", \"kiwi\", \"mango\", \"piña\"}\n",
    "\n",
    "# Añadiremos otras frutas con el método update (el método add() solo sirve para un elemento)\n",
    "frutas.update([\"pera\", \"plátano\", \"manzana\"])\n",
    "\n",
    "# ¿Cuál será el resultado de len(frutas)?\n"
   ]
  },
  {
   "cell_type": "markdown",
   "metadata": {
    "id": "WsYQuF9QLEBq"
   },
   "source": [
    "### DataFrame\n",
    "\n",
    "Un DataFrame corresponde a una estructura de datos de alto nivel, formada por series indexadas. En la práctica es una tabla similar a las que estamos acostumbrados en excel, formadas por filas y columnas.\n"
   ]
  },
  {
   "cell_type": "code",
   "execution_count": null,
   "metadata": {
    "colab": {
     "base_uri": "https://localhost:8080/",
     "height": 362
    },
    "id": "_e_nZ09vMOZu",
    "outputId": "40d2aff0-5b3e-436d-b590-b856e869d58d"
   },
   "outputs": [],
   "source": [
    "import numpy as np\n",
    "import pandas as pd\n",
    "\n",
    "n = 100\n",
    "filas = 10\n",
    "columnas = 5\n",
    "\n",
    "df = pd.DataFrame(np.random.randint(0,n, size=(filas,columnas)), columns=[f'var_{i}' for i in range(columnas)])\n",
    "df.insert(loc=0, column='id_paciente', value=[f'id_paciente_{id}' for id in range(0,filas)])\n",
    "df.head(10)"
   ]
  },
  {
   "cell_type": "markdown",
   "metadata": {
    "id": "N8BiMO6UR8Lp"
   },
   "source": [
    "### Diccionarios\n",
    "\n",
    "Un diccionario es una estructura que permite almacenar datos asociados a una cierta llave, la que posteriormente nos permitirá acceder a ellos en forma directa.\n",
    "\n",
    "Este se puede generar con las llaves {} o con el módulo dict()."
   ]
  },
  {
   "cell_type": "code",
   "execution_count": null,
   "metadata": {
    "id": "xr9bAYZdotoK"
   },
   "outputs": [],
   "source": [
    "# Crearemos nuestro primer diccionario, en el que guardaremos los datos de una\n",
    "# persona\n",
    "\n",
    "persona_x = {'nombre': 'Huachimingo',\n",
    "             'apellido': 'Fomingo',\n",
    "             'edad': 14}"
   ]
  },
  {
   "cell_type": "code",
   "execution_count": null,
   "metadata": {
    "colab": {
     "base_uri": "https://localhost:8080/"
    },
    "id": "69DuILMT7Zd1",
    "outputId": "4b568b6b-cb65-487b-b678-c2220f70a279"
   },
   "outputs": [],
   "source": [
    "# Si queremos acceder a la edad, el código es el siguiente:\n",
    "\n",
    "persona_x[\"edad\"]"
   ]
  },
  {
   "cell_type": "code",
   "execution_count": null,
   "metadata": {
    "id": "1z5jchqq72Fm"
   },
   "outputs": [],
   "source": [
    "# Si queremos añadir otro elemento:\n",
    "persona_x['peso'] = 80"
   ]
  },
  {
   "cell_type": "markdown",
   "metadata": {
    "id": "G9S8fQb0Bqwi"
   },
   "source": [
    "## Ciclos y control de flujo\n",
    "\n",
    "Para entender los fundamentos y la utilidad de estos conceptos, usaremos ejercicios obtenidos de Blockly Games"
   ]
  },
  {
   "cell_type": "markdown",
   "metadata": {
    "id": "59hUjzjKbQpc"
   },
   "source": [
    "![image.png](data:image/png;base64,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)"
   ]
  },
  {
   "cell_type": "markdown",
   "metadata": {
    "id": "aiQGsYwicrkA"
   },
   "source": [
    "La forma más simple de resolver este ejercicio es escribir un código que en forma manual avance cada intervalo y gire al monito en las esquinas, de acuerdo a la siguiente imagen, lo que quedaría un poco largo"
   ]
  },
  {
   "cell_type": "markdown",
   "metadata": {
    "id": "YzeMZ1lYaV0E"
   },
   "source": [
    "![image.png](data:image/png;base64,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)"
   ]
  },
  {
   "cell_type": "markdown",
   "metadata": {
    "id": "w2T25WTIad0J"
   },
   "source": [
    "Sin embargo, podemos ver que existe un patrón repetitivo en esta escalera. El uso de loops nos permite usar estos patrones a nuestro favor para lograr nuestros objetivos con códigos más simples y efectivos. En la siguiente imagen, la idea es repetir el patrón detectado hasta haber cumplido la meta"
   ]
  },
  {
   "cell_type": "markdown",
   "metadata": {
    "id": "o8DFOndoZyHA"
   },
   "source": [
    "![image.png](data:image/png;base64,iVBORw0KGgoAAAANSUhEUgAAAW8AAADwCAYAAADPe+U2AAAAAXNSR0IArs4c6QAAAARnQU1BAACxjwv8YQUAAAAJcEhZcwAAEnQAABJ0Ad5mH3gAAFIvSURBVHhe7Z0LXFRl/v8/OMyA3CFGaLgIgjcwBYVUMiVcSQ11d72tZCarkdlu/qiVv2u11a8y/7rlj/rlFumqZfj31qaRubAa4v2SmCmaoiCX0XGQOwMMDP6fcwGGYbhfZOT79nU85zznmeec5zDzeb7n+3yf55jdZ4AgCIIwKfqJa4IgCMKEIPEmCIIwQUi8CYIgTBASb4IgCBOk8x2WOg1QlcvWpWJCGzC3BfoPEXe6iNKfxA2C6AC2Y8QNgjAN2i/eVTlA4Y9A0WG2nQfUFIoH2oHEGnh0KeDynJjQCTTpwO1N7HpSxQSCaCePvgAoXhR3CMI0aLt4FxxkywGg+ISY0AXYh7AfTjRgPUJMaCd3tgjCXVslJhBEB1Cw7yD3PSQIE6Jt4n3nn0DeRnGnizGTCFY4Z/20lfJL7Ho+BUrPigkE0QnI8iZMkNY7LJWfd59wc9zXCef4lf2AOFFujdvxwNXFJNwEQfRpWra8878Bbq0RdxpTrDPHrSpL3Kq0QHalJYp0zIJuA0E2pXjasQU/eXOPsJyw53zI1r+ICY3JqbLAnnxnaGrbdh1E3+V1j2xxS4Qsb8IEaV68C/8D3Fwl7jTm23uPMKGUi3vtZ6xtKeY4q/GoTCumGMD5wN3+LO4wyn5i1jmzuJvhUKED9tyTo7SNDQjRt9k+9Kq4JULiTZggxsW7GeHOZBb2h3nuKKoxF1M6jqN5DWYzAQ+1LxZT2s/dain2skbkeImdmEIQrUPiTTwMGPd5q/eKGw2cK7XFm7e8ukS4OQpZOZvuPIp4thRUt7/MYyX2WJPjScJNEESfpKl4V9402hnIiWx3kFosiPDJElsxpWWKdRL8844rPrv9KPKZ5U0QBNEXaSreBcniRgPb7rpAU9t9I+nvVMvw6W03/jxlLZznbJktL/SHix3EFOJho0Zbg3s37yHnXA5unboF5c9KlN8rF48SBFFHU583F4anF7JXojPH8gxfca/78bSshHW/WnGvMVc0VuIW8TDCifTpL06j7HoBglzlcLS0wLXCYtysKMOQacMwfPpw9DPvvBFBPm/iYaCpeP88pdGQ9/QKa6zJ9hD3CKLrqdXVIvdcLsq/v4HoIUMxb5gvE25L9lxohuqaGly8W4BNFy7huG0lBs8fif4O/cVPdgwSb+JhoLEZw00yZTBXSW6VTNwiiO5B/asaFQduYlf4FLwQ4A9HCwum6Ozpq0YHKcwwxsUZcU9PwmLZozgXfxq11cafzAiiL9FYvLnZAQ24UdE5K4cgWuK+7j5uJ93AR0+Mh4+jHfrVsgdBw+hVti9jSX8aMwojyqS4/uN1lmSQhyD6GAaWd9NpXQu6KDTQFPAa8RdsCF8q7okMW434yO3YHmGQ3m6WYh1XzpzVmC6mPGiM1reHKbhVAC/2tRsld2bfP8GiLqyswj/SLmHVkZP4MTsP1ZwVzpD1M8MHYSFQp91GZXEln0YQfZXO9/48LAxZjdUjAyDvK16iXlJfzmUS8Igz7MwbjIT1p9OwPOkI/u+p8/jjgUO4VlAkHGAiPtJFDtdac1SV0EySRN+GxLuO5u7E1TWITliIhYmbxISHhF7yl9dqtHDsbwmYiQmMfRmZ4hYTd00llGV6oYJm/eAolfGdnATRlyHxJh4oUkspiiuZFa3nwp4+yFPcAh5hwu5qrRciev8+imuqYSbRU/vOYtaFZRFED9E4VJB7ldi1xiFT7+d4dii+evrkeES6AOlXUgDPKfCzlrIfngbqnN2IOSYMBPIashSRQx7HYFsrSLnfz/1qaIrPYvepjUgu4LOIcP7iUChKUhDzqwwr/IPhZSWMrqyuUuJy5rfYdv4E1HyKHrYhmBswHaEuXrAX3QPVWjWu39yNL/TyL43YjlDDUfbsXLy1zfm8R/vBqm6f0Za6NUWsgzYdCWez4PdYKPzr6q3TQKlKQUJKAi4ImRtwmoLlj/8WAfb2sKqbd4u7T6WXkfLLNiTc0q+1HCGjn8dvvf2hsBBHn3J5K/JwOWMP4i4JpbdYXw523yLH/BahA+SwMm9czoX0Tdh4LUtI6wLyr+fDYkcGvp4ZDpt+gi1xr6IS2y5dxc2iEszw9cJTnu6QSdixfmb4tbAI4ccPIejF8ejv2LHOdAoVJB4GutnytsLgIdPhZ1UNdZESai17DC4SxC0g6D2sDgqFnx0TMCaoSv64FFYOIXh+yjosdeOzNcZ8CFaODoEX+80WlyihLNdAaqFAwLDleDtsOpMuPWyn4y+TX8AsDybc0mohf0kxM/Xk8GP535/ckF9dzI6VaoSdmmL+WpTFTZoCA5qvW4tIB2NuyHQE2IIJsFAHSKygUEzHimmRjevgxgR/yvMIcWLCXSPcI2WRGppadp/sAjB93EosdRXzMgLY/gvDAqBgDRVfX/G6rKy8EDxyBd4bLZTeYn3ZfVsdvhzTFQpWQ9ao8OdUorianZOVExK0GquHCVm7AidvJ9y01eGX/Hvs2yh8HTlr+9XgAPzvlIl42ttTEG5GNTMz3vjxFOSjFLC0t+TTCKKv0s3izbSqnxonUqMRcyAWMXujsYYbvOnKLO7BXkwcmPBlb2PpMYjlj8cgQcWJmQKhY/+CUKGIBqwUUNRcx4HUKLycGIvYfdF442I6kxjA3vUZPD9IyMYxnbNWOeu8Si9/4suISk2BUseKcpmLFaKY7TvKjl3P4suBJo2/ltij+/hjLWG0bq1hJoVUcxbbEqPr6xCTJtRB6hiMufViLMfzI5mlzqxtjSqh/h7FHohB9M6/4wQXGMTuk7+vn5AdczHLUwEpe544W1df/rqi8PdsJsxM+NychTiXluobOuYZ+FkwoWSW+N93vSyeMxYv7xH/Nlyj5TmXz9sVcCMm5WHeWHmUPQlVVjbrwqhlVve2i1dw/H4JfCf7woztE0RfptvFG0VnsTFP3BYJHRYIBffbKz2LL44l67k71DhwKAEXuCgwS39MavJqy2pc//UdJOiVl3VpDb5XV7MtewzxFoPwbJm1OoBz9TTNj7xNWH+De+yXwsttLuqkr0MYqVvrFOPCL3FI1ovKVF9JwTU+8s0aDvXTtkyHly2r130lzpw5YOASuoAsDS+9sLbw4tdc/a25gI375SgqEVLquHAsBgt3RCEqaZuY0hyhGGXPmtT7GlzP2GTgwmF/m3Ih6kMqs+fXXYWrvyuqJyoQuf/fyC2vEFP1kEhw8GY24m5nYOyfQmAu6+LwVfJ5EyZIt4t3scbQP+rHBEL48avzdyOd39InBenFvB0KtwFThKQ6tNdx1oh1u0+VxWSa2YQ2gwUx9vaCG/d7bCa/+lelIIa2XgjhUzpG07q1BSauN8XNek6giH8vBbPK60P3tuGdXVFMdGOxidUq2HsK5j6+HCsmv4d1v43HXL5x0icdedxtM/PClOmfYt3kFXjePwB10t42UhC3j4n8DvYUcdULAd4hmBW0HMtD38K6WfHY4q0Q83UtnPU9OGww7gU5Ie5MGiAT/ewcTFizy8qw8MB/4PbbYbB+xFo80IXQgB/CBOl28S6vMnzbvBe4/j0O6wErsW76uiZLqK2QwcpqIL+up6oIRt9cqa3mxRtSa0GsrKyZDDL6uSHUSPnrnhwMa/736oABnfDfNq1bG9AWQSluNkUK/cAK2E7B8unx2D5jNVaMfx6zfEMQ7OIFRX8pmo4QP4G4sylQ1rBNiT0ULsGYMuoveG/BFsTPegsrRoY09qc3SwAiJ2/AlgXv4S/jl2PukBCEKAZDYcXOqePvcvfAGlufp3yxv0qNtNsq9rcTvppVtbX44OgZeIT7wtnXmU8jCKIHxLslrKwVUDgYWcRIkibc1xq4D1rBnImYsfId5LDq9U/KofgL11npwNSci5BRnkDyzxux8cgbvAvk23zBbdKIvE2I3fUG/v4ze3opUEOjY2lmUnafByN4RONOWuPIETltBaa7yCGtLYZSdRYpl7dh47E1iGHnjOZ8592IhY0FHhnrjuU//Fg/qvJGcSmOVxZheMRwfp8gCIEHIN5ZKOcNOA3S0xZiITcAprnFcGCM5QDjQ8utrMAbrNXlrHSGplywxEtPIMZYufUL5x7gMvZCRk6CPxdQUZOFA/+OwTspG7Ht8gmcyGvNVZOFC5c3Yc1BrmNzIWIOJSBFXSy4lVym6HWIGsE1EsGOXMNZjLPHXkbsoThs+jkZJ7LT29dodhTWoHo87oFLVaU4ffsua3zNcSgrG7LAAV3v5yYIE+cBiHc6rpcJUQtuLk3iSVpG5gY/vYiSOmY9IsQVFhedFXzomXmC2NgoML1tL+jpfdS5fjRZSGgy5Uwo/OwNfN6j3kL8vC3YPmtFo05YteoANiV/j+u8T12/Q9QIDtYsB0Obh+tNOmLleN6xe3ze+nCDdoZOHYb/3MwGZ3t/p8yFfPgA4SBBEPU8ELfJgauXeXG1V0Ri9QiDLjWnWVg9ezu2L9iCdU8Ei4l12MPffwWm6Amy14jVeEbOZO6+Emm/ij7o0n04m89sTTMvhE5ajpBGAi5HyPh12MJPEvUWmgS9yRw61YnZZdQ9Pdj6Y3mjmHcvzJociQDDMOebWbgrYffB2h9zDe6pfHgAvLiO0Pt3kWX4pKFf36Jy8APRZV4IGK7vYOHu2UqEOoq73Yz3E964XFiI3MJi/FJRAtsBptoCE0T38WB83nlx2HZTycTJCn4j38OW2RuEjkQuouHpuXycMRefnXLRoHvyPpMz22A8HxGPDVz+327BeyP9+HhxZWYCNt0R87GmYffJ3UivZJacXQiWs/yfRgidlZ/O2YDl3lw8NPtM7j7sFj+BvLvgA+Es/fEsl3fS3Fb8w90Mq/t1bu4lMyacE7eI178B8Qvew1wXKdQF3P1jBnp/0Rou3YY9mcI9Hczd098K9eXu6YbAunu0BwlCbuP1vZOMy0V8qfALZOeaJZTx6TzhnmkKssC/678591UXIbOVocjGDP/JyoG1mx2kdT3cBEHU88A6LC+cisU7504I8coyudCRyIVaVBcjK2cfNiavwQFDd0H1dXzLPqPUSiHn8ltJodFk4cS5dxB7ymBgeekBrEneiANKJTS1VrC3EzorudGWmpJ0pBh+hlnryUz8NPelQl75YBja/T0Lu/4ft+FEkYbJrnhN9g7sOoVrj7mQJ4ivlVv908OFU+vxxdULUFaxT3ADmvTu0dmLcW2obzo2Hf0CB1Rqls55boQypFr2+Usb8fbBn3GXi2Zhf6/BLfnOO4kZ+1dhZ46DN2/B0csRZhSHTRBN6La5TboWvXlB9jBRF1OJhxT2jUz/fxegPnILQ/88lh/E05XQ3CbEw8ADs7wJolmYoV1jbsZPBUtzmBCEcUi8iV6J1FoGSMz42G+CIJpC4k30Sh4d+SiCFgXBwpbEmyCMYSI+b4LoOsjnTTwMkOVNEARhgpB4EwRBmCAk3gRBECYIiTdBEIQJQuJNEARhglC0SS9ipHUZBkir6xdrCTchd9vI1lriX/nOKNN1TXscbFuKcIdCce/hYriVwVzoFG1CmCAk3g+YwZYVGG1bhsn2RbBqh1gbI1crw7f3nHGqxE5MaT82klrMcb6L3zgI76vsE5B4EyYIuU0eIFEud/DWwFuY4XSv08LN4S7T4k+PKrHU9Q4vwu3lCbsSvD0wq28JN0GYKCTeDwhOtCd3k0iGMiv+3YGZvBi3BU7oX3S9jZeY8LtK+bc2EATRyyG3yQNg05BrsDRrahnrdBbIuDkOSuVjqNC6wKyfBfpJJOLRNqArR9DIbXhEfkNMAI6X2OGru67N+sI5gf+DsxqOUv7VD0049tPzKC8dKe71PXTVOkxfFSbuEUTvgcS7h/m79024yppat6fPz0NhUTATbEFka6proNXUoLqiGvp/opawdrSC1NIcTjbnERz0tZgKlNSY42v1AF7I6+Cs7ecG3GnWOr+d74MLF5egH2tAyu6Vo0bbebeOKXIfOsgDnRA4eSScXFt6hxxB9Cwk3j3InxV5GGvb+A0Tmgo7pBx7DRKpDW/lFeQVo7K0CrU17fdZczi62cNugA3u6yox+rEvMWDAr+IRNPo7elhUNusXP3JuCSrL/KBjgq3OKkBVed91pVTVVOFOiRKL31uAwaONvECVIB4Q5PPuIZ4foGoi3KWlTky4X+eFu1hVirzLKmgKKzos3ByFTPxV19So1UmRlh6NU2eioKsVXiPGhcjVLcaEW60eioM/fsALd6m6DHlXVH1auAmiN0Pi3UNwcdP61FRLceTEX9DPvB9uX72LImVJm90jrVHJBJcTXk6AizUjkPzj27hzZ4R4tCk6nQypZ1/A+cvRrOGQQHU9HwW5xbhf2zXXQxBE10Pi3QNwFreDOffyxwaSUl6B1MIC6huF0FYY7yzsDJzwcgKsyshHLbO8f74ahROno1Gjazw/9h2VP5JT30FF+TDet628cpdZ3tybjwkBasCI3gn5vHsAQ1/37duDcfHXZSi5W4rCvLaF83WGfhIzOLk7wNrJ+N9RV1OLe9mFqCiuFFOIOup83lHvR8I30FtMJYgHD1nePcBAi8aW7KUrM1FbXYui22ViSvdSq7uP/FuFuHsjn52zpMmiTFeRcLdCV7m0CKKrIPHuAeR6oYG19/tBB1doiitwv7bjHZMdoaKkCsV3SpsstbqevQ6CIDoPiXc384i0GvrDbK5fG8/HcpcXVYgpBEEQ7YfEu5vhZgfUp6BA8Jt2RyclQRB9h24T7+mT47E9cjvWjRMTCB5drYxfdyaWmyAIgizvHub+fTNxiyAIouOQeBMEQZggJN4EQRAmSLcN0uF83pEuVlDefAPJZkvxWzcv2AvuXmg0WbhwOQ4br6uFhHrkCBn9PH7r7Q+5TAqp6GGo1hYjL+9bbDqZjCwhqR75wEg8/1go/G2thPz3q1n515Fy4Qsk3GpcvnzgXEQOZ3kd7WHVSt6lEdsRaqfEibNZ8BoVAgV37ToNrl9bj3fSrguZ2gA3j8jrHtniHnD02BJoavxwKy1PTCF6MzQxFdFb6XbxrtZVQyqRorpKDXVFNaxtFLA353IU48Kpl/H3m3x2hpx95n3+M5yoFpeqUc716ckcoLASzq+5k4Dowwf4bQ758NV4P9AP/FEm8EpNOaT9FZDzI8A1SE97HWuuCKIsH/4XvD0yAPZc3F4Ny1tWzsqWs7K5SZsa5+UQxLuaXT9rRO4L+a3ZiS4fi8XGO2KmNtBd4u0cHoKJEQo4shaxfsrvai2K0m/g/JdpyFBxCS4I+3AyfF2AotT92BXfdFDQuPcjMXIg+9OfPoQdn/AfAryHIOyPI+DpbgnWhgrodNCqVLj6r3M4dbKhnJGr52CcH6D8+hAyBz6B4LF29Z/RFhQie/9RHP5PXf7hiIgPZPdc3G0GbXoatq65Iu7ZwPfZIIye4AJbK0l9XXWaShSev4TUz64hX0hijMW87T5wUGbh+E0nBI9n18Ly60rzcfl/knCqYYLFNkPiTfRWut1tIpVUI+vK3xG1NwaxB2Lx8q6/4wQ/Utwe/j6z+Dw8g57HM5xw65RISY3Cy4mxfP7Yb6MRk5bO5BWwcg7GXCE3YxaWP8YJdzXU2dsQs+dlPn8MO0+Cis8Nv6GRCOHzTscL/oJwa/IP4O+7hLyx30axxkPJSmB5R65ApC2fWQ8m3Lp0JPwg5H95T/uEu7vwjI7ArEVecHaSQVdQgqJctqi10PWTwWHUcEyKGQsFn1OFs78Kw+8dfP3RpHpgQurOrcug+lEU7tFMAP8WBF9vJtyVZULZuWXQ1kogUygwMjoUE43McWUbPhlPTLCDpFS4HqatkDk5wndxOKZOFDOhAiU54vUaLuz6BXTQqArEbRvWOExF2DQFHNhXo0ol5i3QQmJlCecJQYhYNVzMq4fcA+O4aylmeZWVTLzLkN0B4SaI3kz3+7wLjyMu7YK4w3EBG/ME54fUQs6vOULd3GCl48Q1BZsMjFL1lbvgXxhmbs0kX2R0MAZzFrzmArYdS0aDzazGgUPJuF7DDFGZG/yc2W85KAR+nNuj5jq+T0pgV9DAhVPrkcK9JF3iheCRzIQ0oFidggONJwR8sLgEIegJJkzQQrljP7bGJGLXKrbE7MHmuCyUsnsocXeBvyiwpfvuIJ97j4JCjkBmgTfiWVc4c5asKh9XL3EJNnhiNrNcmeXMWb87XmLWOlf2KnaeqBTBmpfawe0pw4JksGV/SuWeH7D5FeF6ti8V88MSrhPqBDYLqe+K16u/bLgBjaXgU9OmX8QPm8WGZGIQRnJ/uOoSXI3bie2xYv5X9mDHDhW7A+zMvh4IFnI3IJVAx65/F3ctsd9ga+wJKMVDBPGw0O3iralS6gmriEbDW9KQWKNOLlOOxiBq50JEHzoAL7cQhPg/j+Xj/4K3pm9A/PxQ0ZJsYLrjAH6tKUlvJMYCu/HOroWI2hWLTeyZOtTJjU/V3DuLffyWPkzsi0TXir1gp+tTWHpC3OolPO0ER86dpMzBke8N3CDnC1HKT6Mig4UHn8KE+SpUudyGHVxn2fBJdYzzc+TX+T9fFMVtGJxdmNLrSnBz8xU0brOUyL8nWMcWtk78uhHc9XzLtYJ1KHFYtPplDi29zZ5Z10v8oeAeC0pVOL+m4bzDRtvBopoJ+vUbSD0vJoqUsrrz3yEm+v35FH0qcSfV8PoJ4uGi28W7SJMsbhlBag0vcZMjIHA1NszbjvcmLcfyUVMQ4h2AwQ5ySHXVMByPqOgvOE5bLF/EXnTCSu1DsW76uibLSmdr/jisBmC6sCXCGhleIXoRXyZhc1QC4mNPA34e8A0fhYnLnkTEuxFYGD/SiD+5DMfTBVFt5DphFjzvMtEVQvXvukbgHPYt3Yn45xORChd4TxiC4CUhmLJ6GuZ9PAfBQ8UeZyNw/u0mYplTwVvHLeEZHYrgOuv6i0O4KKZzXP2f/XxdOf+382gv+M4MQtiyUMxaOxOLt7AnBDFfE3QVKDombhPEQ0qvCRWUj34PK4b7QW5ejeKidJzN2IdtJ+Ow5jtmQe853tR67wBSSwUUDkYW21Z60HoZtr8Jwbx/RGLB6icRtsgfwyZ4QOFtByupjutXbMrX2VBxkwbquU5sn5YLLpPcOzgueil4XIYgbO0cRH84GVOWBSHwKS94MwvdwV6Cluav0hRcE7faju0zkxE2UXQB7UlpYl1zeC6YjAWbIvH7V0MQNm8IfCco4OJuA0k1q6uYpwlVWsEqJ4iHmF4i3n6I9PACZx8X58Th5QNrEHdmN5IzzyK9mWdfZYXw83SwmsKvW6JYK9jt6swYLExY2PyyZw0aYll6KROZ5bnYCw7MhNaq85F97BrOfnYCB99k1njUZaiMvkfhMrJvcVJX5zqxwcihnMtEB1VaGpdBxAdTuc5Kd2YJa8qg+jkLl3edwOGPfmDW+E6cv96aHd0ORo/FtDkukLFrKEo9gURDFxDD9tlpmPKMC2wtddDkqpD542Uc/+woEl9LwOboLHKLEH2aXiLeXrDmPRsa5KmberDlQV5NfN5ni+/yays7PwTwW/r4YcWs7dg+/1Os9gdSSkSftsN0NHSRmibBYS58aKQu8wr2xiTh4GfnkHYsC9mZwvHmSDuXz7sweNeJyzBmvbKdykJk7+EPC8zxgRvXI8zSL765H/vWn8Dx/VnIOK/vy+4CXIYj4gWhY1SXm4Vj8ca6E10wLsiRn5FRc+4otq86hOTNP+PysRwo9Z8UCKKP0kvEOwvlvHFsBS+3xgIrH7gcK330PeMC6l9/5iNKYBWAyPEhjT4TEBSJAM6Nff8uLl9meS+fFfI6hmKlQV7YhmB5xBZ+Eq34KQ2BiL2V/lacnAGlOWlNLc+JLnxInVF+yMKdYrZWyBE8TXCZ6G7lQd/uhpNMmL62oACnmgikDxRuzfu8244CE18bWd9BeXbD6WYiQZxgwXdFaFH0a9Mctoucmvd5E0QfoJeIdzqSb3Px1kyLXSKxYfYGoTPxt1uw4YkQKKqzkMW/6MUBA4Zxa0bpbmz8hYv/lkLhvbzRZ/4yhHPBaJD+y0YhukTMW3xfzDvnUyFvxKeIj1iOEDvOBFTiTPpuvujeTIVG8PQ6DA2BJ78l4u2PiAUK3io3zg1k8TfRDt4TOJeJFqpzrGXTp0Ar+JFdXBA2mk8RcUTg6kB41sdpdhzPZUEYpmBNRF0HZbNWdAGqyrm1DM6BwxvFqNuyBnjaU0KkDEH0VXpNh2X6mfX44mo6+LEaFnKhI9Fcg6ycfdiY/AZ+LuOlHXLnhlhs9ZU1eP34AVwo0aCaGy3JfaY/e8wuv47ks41HTHJ53z4h5pXaC3nt7GFVq2GP4SnYlhzbJL68N3L2tOD+gIsXpm76PeatjcC8DXMQ/e4oKCzLkK/k5FcGq7pQQT2unizgO/Ikluy/4nxk/MAnN7AnByrOnJfYwHfFfCxcx8rmIju2TUOwnwSlmSW8uLcc+tcCE57ExAlCuKK2CHCdx5VvZHlzLHyhwuVL4vn8ArHgHzOFYx/Px4KXveCgKUQ+9yQBS9hN49YE0begFxB3M90xPJ4bGh/2Ow842AouFH5Y/PUcXN5xGoURMxEx1ga6jMvY/PbPwvF6GobLa86fwPaPDGeKYXBD418cCe9HxWH3/LD4fNz8z3mkKkdgwSoP2FbmI21pEs6yw8LweBmKUhOwK54voYFpk7H4WRfIlDeE0Ma6ffFws2hUOBXNhQ1yQ+PHIngSNzS+7lgl8tNv4OKOn+H40nwE+rJGpX5ovzg8vv7znYeGxxO9FRLvboYmpjJtSLyJ3kqvcZsQBEEQbYfEmyAIwgQh8SYIgjBBSLwJgiBMEBJvgiAIE4TEmyAIwgQh8SYIgjBBSLwJgiBMEBJvgiAIE4TEmyAIwgQh8e5xGmYjIAiC6Cg0t0k3Yzi3ya2sYcgricLxxF/FlK5BKpHCSia+i7MLqajWQFvThW/QMTFqamtQVlVKc5sQvQ4S727GULx5hnyO1+cfFHe6DiuZFZysnSExE2cb7AS1tbUo0OSjXMtPqt3nIfEmehsk3t2MoXgfPxaJspox4l7XYiYxQ625DlePZsBK2nErXKPVoKA8H/fNauHrOxiuHgPEIwRB9CTDfzMYnqMMXwIpQOLdzRiKd+rRP6JC54+i2yViStdh42QFcwtz9HewRPq5q7hf0q9dVnjtfR3uld9j4l0OudwZg3y9YWFlgRJ1OWprhDf4EATRc1h7WqK/kwUmL5wopjRA4t3NNCfe3TWft6O7A+zk1uD/rJb322yF11nbTO2Zte0DFzc5aqp0KMgrRkVxhZiLIIie5E7pbSiGu2Dp2oViSgMUbfKQUZhbhLs37kGn1cGsqh8CfvMY7tvVQMesamNw1nZ+2V2oy1RwdnFG8NgxvHCX3SvH7asqEm6C6KWQeD+EVJRUMuG9y7s7qkqqMHDQQAwa74GSqiIUVzQsRRWFUBblocasBn7+fhjqPxj9zPoh/1Yh7mUXoba24aGMIIjeBYn3QwonvJwVnp9ZwKzwGqDKDEHho2HnYc2LNrdwAu7iOgCjHw+Es6sTyu9pcOfaXZQXcK8pJgiiN0Pi/ZBTXlQB1TU17wbhrHAvDy9MnDyhfvH184HZfTPe2s7PLoSuplb8JEEQvRnqsOxmerrDsiW4aBSJTIg+MTMz49ccnLDXaCmapFXYLXNyd4CVY3/ILKX8PkG0FV21DuWFFSjLL0dlaZWY2jItdViSeHczvUm8iY5jK7eBws8FA3weEVMIomMUKUugTFfhHnvSbQ2KNiGITmDziDU8AxQk3ESX4KCwg884z05/n0i8CaIVXIfJ4eThIO4RROexsLHAo8MGQGppLqa0HxJvgmgBOxcbDBhEFjfR9di52OKRgY7iXvsh8e4DTFwXiejtcxAxTUx4yBDqF4l50WJCF2LJLCSJtOUpBvIPvwy/yYPxebqY0OtIw+fs+vz++zvkiyk9SvpG/v74fZUmJhB12Dp3fA4iEm+CaIHWhJsgOgM3F1FHIfHuA6TGJiB+4R4k/iAmEF2Kc9inSD90HS/6iQm9jkC8yK4v/W8z4Cym9CnKUvDeXGb5c9a//vKgnkS6CBJvgiAebipKoS4QNgfN/AiJu3/C6X2XTL4xozjvbqa74rydw0MwMUIBZyeZkKApg/LIRWQPDMI4PxmKUhOwK144xPmEhym0UH7dYH0LaSXI2FoA53lecOD+xNVaqJJSsG8Hs0dcvDBu0QgMG2oNmaXoOtDpoC0uQXbiKRxO0otRnTYZi591AdKv4Co84O9nA+4TWlUOzr52FJeFXMbxHoKwP46Ap7slZFIxjTuPSoWr/zqHUyfLxMTmEeqCRnXmaU8dmoGLCPAN8RL3jMP5vCe+n4QVn4jWt/o7rPjDq0gWDjdDONb9v08RIRd3UYKbx7Zjy87d2JueC2fvUMyIXIVlYSVImDwPcYt3If25QCEr50P+8wZAP60ezr/N8iMGCYeWI0A/bdJHSDUUrII0JH6/GwnJu3GBfSWdvcdj0pSXsGLOeDg38hiJZbBzng48jzfWrUVynjsCpi7HeyvmYhD/NWR1OLwR6xL2IzVTzcqagaj/ehtR/bY3e72lmUlI2LMdR345yZ8fYGVOCkXEzOWIDKi/Oa1Sxe7Je+mheGOOHyzEtHr4v8duyH9ngaR/ZWD2hwexIqBJrgdCflYBrhzOEPeaQnHeDxme0RGYtciLF25dQQmKcsugtbCBYtpYjPZoj4/WGt7PMuHuV8nKKIGmuhKlv3DCPRwRb4dg5Cg7yFDNH+OPV0kgc3KE76LJRjs/ZYOHYCQTbp2a5VdrgXsFLQv36LGY97cg+Hoz4a4sE8/D6lLLzqNQYGR0KCaOEPO2lw7WoUvo746J0auw0sgSNclHyOPnDx97YRPIReLaqYh4awOOVAQiiuWb/RiQ/P5UvPjVSajFXF1NVcZmLHtxHmK3pqBk6BL++mZ438WR+EWY+F8bccHYhJJnPsCLK7ajasxyrHwuFHau7nDjhVusw/ubkY5xYh1KsWPFVMTuN/4tyD38Kp5Z+jLifrGAX5hwf16c6YuSX7bjvddmIfZIG2uuTsKb7N7dqGhp1KIfpkT/Lz5+zg6fv78WqcVicjspS0/D0X+eMbqcvVQk5uoZSLxNjRFjMe4JO2bZ6pilmYLNryRi16r92Bp7AhlKJqC27RFvCSTVKpx6/RtWRiK2Ryfi8CVg2KLhUNgyI1V5AweXCseE4/txKp17n6UMLmNHCUXoI5Wg9FgKtsaw/DF7sHVNS9Jtgydm+8CBWdta9oPY8dJ+8TysLlEpyFCxLFI7uD3FLPoO0OE6dAU2gZg9fwmiDJdJA6D+5QbgNAPrXl+O4eJDU/7hDxCbzCzVKR8hYdNHWMnyrljxBb7bsgbu+zcgQcjWtWjTsHU9E7GCQLy47iASX2cNCzvvytcPIuF1Zp2nb8Ar8SkoFbPXw/5W8lVf4bMVMYha/BY+e248b+nW1WH4/C/wvV4dkr7+K/BTkvBZfYqTmIh+h3w/9oTw+Rd4Y7Fwj7jPJH7yEaawJivx+xTWJLTOlcOfIhHLsWJ+YFOruw4nO9jJLBDwu5cxu2A7Ek62peSm2AzzhKux6D5rO3j79exYABJvE0PBxMyB0+dbN/BDPFPrOlRZOPxlForaOUWJ5uoNXOSEsh4feCik0Om0UP14Gg0OH44yXMyv5LckVpb8uhG6QmR+pndNLTIMzi7sYnXsUXvzFQORUCL/nvDSYwtbJ37dPjpRh26DWaZbP0BigRwRf/orIlzFZJZ+5CAnbuGIXTID7kIij4XnXLyyOFTc61pKz+xGHHtad46MwbIxdmKqgHvY23hzKhPk/V8jqYl3byFmj9e/So66OszFsvmhYG1mA64z8MqSpnUoTT+PXD93TPndXAT0FxPrYNY83/f7k7oNHYrpSN2TDueZoRgrNoZGecwDvBPGfhymzARST6a1qWFoQr9HMGic4BZsoB/sn/CGcw+rKYm3ieHrZsOvi26da2oVXbqM/HZ2n2uY6DfmBpJjdmLz85x/3BGeE7wQuCgEYSvDMW/DHCxhVn+zlFW0o/f+HPYt3Yn45xORChd4TxiC4CUhmLJ6GuZ9PAfBQ1v6JbZGJ+rQLVThwlev8pZpwOJP8e4kPV9uWQau/MTWY0JhzMXrHhCOseJ211GF9PTd/NbssYLl3Bg7DGfnBVJwOsPAdeHrDrnwFWygIB2nuTpMGI/h9a6gBtx9x2G4uF2H7fhV2PLJj4gLY5WuKEHpHVbGhSTs3bkWb772V3wt5msV9Q2kFwDjPA0bFD3kMxBX7+u3g1zOznksp8ORJpJHfeCp/y5qdzkGu/e8D53E26QYAjv+x6GFJodPMKCs3mJtG1poxV74xigwbvVMLNk2DVOXhSA43Au+o5zh4CThZ0ZrlvIKNN/1YgSXIQhbOwfRH07GlGVBCHzKiz16OsLBnp2n0zPTdrAO3UDu4b/ila1pvFtk3XMGj/ZcJAS3trGE0eeA/vaCxdillEB9h1v74OaJzdiys+mSzLuWgMRsA/vUbUDT69FVseaA4eZs/FrtBzR6oqijKvs7rP/rU/CLGIOxz85C1Gsv4834f+OGvYfR/C3hwwlyG5G7GnbythcLuI+RQ+gDl0IxzgOGDw89AYm3ScG+Le1xaXcIG4x7/0m+41FSW4mi9Bxc3X8Ohz85hB3P78TWM+Vivs7ig6lcZ6U7s7A1ZVD9nIXLu07g8Ec/MGt8J85fb08jZEhP1aF1uCiIWNG3+/GKxm6RNiGTMVuxu2BPKMzSXR9vZNmfIubpJjI2IyrqVWzJ8MDs6I/w2ScHkbrvJ6Qd+hEJf1uOSWK2VulvyzcY6Xfa3q2bm5fEnnTknQsTtB2IIaPMIXlMAR+7ByOjJN4mxRWU8B3aMlh58AkG2MD5kc64GxgjAuE9kGshKpH5yTfYteYoUnddQ8ZpVVM3TWeY4wM37imishAX39yPfetP4Pj+LGScbz18r1V6qg6tcec7PgriAgKx4k9Lmvp2OUTxQVklu1ojlImWeZdix6xPbh2OdV9f5wcYNbs0CUU0gsRCeJrIyzd+rU0edKpw+vBadl+AyJVf4N35MzDRzwfONnbNdzg2h40/ApjSJ2dkCNZ/q+Tixi+A82O+7W9IG9EP9v5DEDiqYx3qXQGJt4mhvCP8xB0GBjXuGOJwGQaHzo468JAJPyBNMVTn+RQ9bPDEwC6yA51kwkNEQQFONeow5fCBQog/6xg9VYeWqEjD5++/KnRQvv4RXhzajCyJ4sNFZJw2EvpfmnGyaby43ANTuHVBcdPGKC8Dp8TN5rGAjy/n02bnzCgRkjqDkx/GPs7Wx/a3sQ51bptwBHgbuS8Z59mVtRU5Jk1ZCOed/0SikXMbUpW+Hwk/BSJqfGddJwypDfp30lbqDCTeJkZGUp4QUTLQC1MWKIREHgUmvsasl866VXK0ggVj5QjPZ/R7pmzguywUwwaKu52lQCsYZC4uCBvNp4g4InB1IDyNdHy1mZ6qQ7NU4cLOtxGXDqGDMqwlG0+OKc8sYY/wKYj76jvk6lupzHJ/N07oWGyEvTMGcUE4TCyP8CIoostF4lcbcFrcbQnn8QsRxcrYG/c2EvXL4ODKWRsCv0XzEPdTW+xZd4TPZALa5jrUWf5JSL5g4FMvY41e3Fr2jNl2bMcvx5tTLuPNtRtxoaUxXcUn8dk/NsBi8V8R6SummTAk3qbGpdM4dbyECZ8Mzs+EYsnHEZi3NgILNzFRYlquqxay1XTUrXvpGvL4X58MigUzsXhDXfkzETbBDlWZheBfT+xgg5HcuqPsyYGKMxslTFBXzMfCddx52Pm2TUOwnwSlmVwd2VU4dMBK7qk6NEPpmbV45Sum3J7hCMR5JBjpEOSWvemC1WsxJgYfLxnPnv1fRXjUC3hvKzse/yoi/vwqLvQ3Ivyy8QifzyzHgu8Q++epiI1n+be+g2VRTyE2byFW/E7M1xL9x+OVd2IwFqyMZ59C5Pq1wnXFr0YkV06yGu6PLcXsMW1zZHDRIx8vDkS+kTqccg00iDaxYE8bMfzoz+S18xDxvnDuuLgXED5rHvZ6voWVz3D5LiO3TT4j1gCu2oXP/E7hlahFWH8wDblleo1ORS4uHFyLqKWv4cKYL/G5YaexiULibYJkxycimYlfUakOEic7OLjbwaK6BNnfH8V1/sveXBRJW1AhdcNpXEwvA/daS5lcKN9cU4jMb09g35tKlHKeGytruHR09CPPFSSuO4eMXM4Cl8BKwc7zaH92ehWufpmEHTuLBYF1skcwn7899FQdjFNVdlcIQ8tOYqJqpDNQXFLv1AkME7PIL/HNh28h0jMHSV+x48dKMS5yF/bGzhXzNGb4nK+QyMR3tmsVErlOx8OXIZ/yKbunyzG2jU8tFn7LseXzL/HGTD/gl83Cde08CfguxBsf/Ii9K8Pb4RdmdXjuKyR9sAqz7TOQwNchF4EzP8XWlc81Kcdi6HJ8vukjRI23Q8lh7tybkax2x2L+vAsxZShrzJhlfiW7LZY/hzsmvvQlkje+hEHZu/HmX6fWT0AVHrsae7N9EPU/B7Fl8fim7kYTheY26WZ69h2WwxERHwiFVRky1+5H8iUxmegw3LwSPuO73c/SPC3OY0KYOjS3SV8iOgLR2+Zj4epRBhYE58/1gQvXzhaXIIeEu0uorhT9UATRDVRXdPz7ReJtapxQo6hWAis/fyyI/z3vy+X9ufGCP1dSXYnsA+dwVcxOdI6K0ipoO/EDI4iWKLnb+qyZzUHibWpcOo0f4i8jM7MSWqkl78vlFiupFprMHKTFJ+Hg9x3/QhCNKcsvx92Mjg6kJojmKcgpQn5Wx8c1kM+7m+lZnzfRHfS3s4RnoBsG+NCLiImuoexeObLTlLiX3bJ4k8+bIDpBRUkl+6HlIe/SnU75KAmCQ33zHm6cvNWqcLcGWd7dDFneDxe2chtmiVtAaimF/k+HIFrjfu19lBdWoLxA0+bJ0VqyvEm8uxkSb4IgOgq5TQiCIB4ySLwJgiBMEBJvgiAIE4TEmyAIwgShDstuxrDD8tzJcajq/1sc//5XMaUVzNjShqAGqUQKawvDlwt2nvKqMlTXTVVIPHxw36+O8LAG2rT3fnTzfajUVVK0yYPCULx5hnyO1+cfFHe6Dk68Hfo7wryfuZjScWpqa1BUUciLN0EQDw7vkQNJvB8EhuJ94vg8lFZ3/fvABcxQa1GNq0dudMoK5wSbE25OwH18feA28FHxSN+Di8edvipM3COI3gOJdzdjKN5Hjy2BpsYPRbe74PVTBtg4WcHcwhwyOxkyLt5E9T1du6xwfWvbztYefqOGQWYh5Yfy1nATY/dB7kMHeaATAsMeg9OjjmIqQTx4SLy7mebEu1sG6ZiZwVFhC7sBNuD+qvcta5kVntEmK7zO2tbdr8XgwYPg4uEKXZUO+Vn3UKXpuz7vqpoq3ClRYvF7CzB49CAxlSAePBRt8jDBFLswrwR3flVDp61Fv6p+CPjNCPRzEqxqY3Dp+eVqfrG2tcK4Jx+Hq7srytRlUF5V9WnhJojeDIn3QwgnuJzwlqo10JZVw93TDd7j3VGkKRQWZmHXbatKbqOyRoOhw4diVNBj7AthBlVGPgpyi/m5GAiC6J2QeD+kcMJbkFsE1fV81Nbo0E8rQdDTgXhkqCOKK4pQXCkstg52GDdhLFwUcpQVVCAv/S4q9V/eShBEr4TE+yGHE2LlFRU/k1k1Z4U7u2Hi5An1y2OBfiyXGe7evId7twqZ6NcKHyQIoldD4t0HqNXdRz4T5rs38vkoF8NFma5CRTH3OnWCIEwFEu8+REVJFYrvlDZZanVkbROEqUHiTRAEYYKQeBMEQZggJN4EQRAmCIk3QRCECULiTRAEYYKQeBMEQZggJN4EQRAmCM0q2M1016yCzuEhmBihgKO9DBKJmFitRVH6DZz/Mg0ZKi7BBWEfToavC1CUuh+74pu+WGHc+5EYOZD96U8fwo5P+A8B3kMQ9scR8HS3hEwqJEGng1alwtV/ncOpkw3ljFw9B+P8AOXXh5A58AkEj7Wr/4y2oBDZ+4/i8H/q8g9HRHwgFK18nbTpadi65oq4ZwPfZ4MweoILbK0k9XXVaSpReP4SUj+7hnwhiTEW87b7wEGZheM3nRA8nl0Ly68rzcfl/0nCqTa+vEgfmlWQ6K2Q5W2CeEZHYNYiLzg7yaArKEFRLlvUWuj6yeAwajgmxYyFgs+pwtlfhXnDHXz9Yctv6cOE1J1bl0H1oyjco5kA/i0Ivt5MuCvLhLJzy6CtlUCmUGBkdCgmjhCy6mMbPhlPTLCDpFS4HqatkDk5wndxOKZOFDOhAiU54vUaLuz6BXTQqArEbRvWOExF2DQFHJjgV6nEvAVaSKws4TwhCBGrhot59ZB7YBx3LcUsr7KSiXcZsjsg3ATRmyHxNjVcghD0BBMmaKHcsR9bYxKxaxVbYvZgc1wWSnWAxN0F/qLAlu67g3zuPQoKOQKZBd6IZ13hzFmyqnxcvcQl2OCJ2cxyZZYzZ/3ueIlZ61zZq9h5olIEa15qB7enDAuSwVbOrO89P2DzK8L1bF8q5oclXCfUCWwWUt8Vr1d/2XADGksZn0ObfhE/bBYbkolBGOnH0qtLcDVuJ7bHivlf2YMdO1TsDrAz+3ogWMjdgFQCHbv+Xdy1xH6DrbEnoBQPEcTDAom3qfG0Exy50ezKHBz53sANcr4QpfyEgDJYePApTJivQpXLbdjBdVbjlzKM8xPeDJP/80VR3IbB2YUpva4ENzdfQSmfVocS+fcE69jC1olfN4K7nm8LxR0OJQ6LVr/MwY5fG4dZ10v8oeAeC0pVOL+m4bzDRtvBopoJ+vUbSD0vJoqUsrpruA0m+v35FH0qcSfV8PoJ4uGCxNvU+DIJm6MSEB97GvDzgG/4KExc9iQi3o3AwviRRvzJZTieLohqI9cJs+B5l4muEKp/1zUC57Bv6U7EP5+IVLjAe8IQBC8JwZTV0zDv4zkIHipYx8bg/NtNxDKngreOW8IzOhTBddb1F4dwUUznuPo/+/m6cv5v59Fe8J0ZhLBloZi1diYWb2FPCGK+JugqUHRM3CaIhxQSbxPE9jchmPePSCxY/STCFvlj2AQPKLztYCXVcf2KTfk6Gypu0kA914nt03LBZZJ7B8dFLwWPyxCErZ2D6A8nY8qyIAQ+5QVvZqE72EvQ0vxVmoJr4lbbsX1mMsImii6gPSlNrGsOzwWTsWBTJH7/agjC5g2B7wQFXNxtIKlmdRXzNKFKK1jlBPEQQ+JtakxkludiLzgwE1qrzkf2sWs4+9kJHHyTWeNRl6Ey+h6Fy8i+xUldnevEBiOHci4THVRpaVwGER9M5Tor3ZklrCmD6ucsXN51Aoc/+oFZ4ztx/nprdnQ7GD0W0+a4QMauoSj1BBINXUAM22enYcozLrC11EGTq0Lmj5dx/LOjSHwtAZujs8gtQvRpSLxNjOAwF3CeEV3mFeyNScLBz84h7VgWsjOF482Rdi6fd2HwrhOXYcx6ZTuVhcjewx8WmOMDN3u2ZukX39yPfetP4Pj+LGSc1/dldwEuwxHxgtAxqsvNwrF4Y92JLhgX5MisctaOnDuK7asOIXnzz7h8LAdK/ScFguijkHibGP2thEDn0py0ppbnRBc+pM4oP2ThTjFbK+QInia4THS38qBvd8NJxoslCgpwqolA+kDh1rzPu+0oMPG1kfUdlGc3nG4mEsQJFtbcWouiX5vmsF3k1LzPmyD6ACTeJkaFRvD0OgwNgSe/JeLtj4gFCt4qN84NZGVxjm87eE/gXCZaqM5d5o/UU6AV/MguLggbzaeIOCJwdSA8Oau8k3guC8IwBWsi6joom7WiC1BVzq1lcA4c3ihG3XZ8CKY9JUTKEERfhcTbxDh7WnB/wMULUzf9HvPWRmDehjmIfncUFJZlyFdy8iuDVV2ooB5XTxbwHXkSS/ZfcT4yfuCTG9iTAxVnzkts4LtiPhauY2VzkR3bpiHYT4LSzBJe3FsO/WuBCU9i4gQhXFFbBLjO48o3srw5Fr5Q4fIl8Xx+gVjwj5nCsY/nY8HLXnDQFCKfe5KAJeymcWuC6FuQeJsaPxxC4pdZKOJG41hawsHdDg4O4IfFH//v/TiVU8Fns1WM4teNOHal3l+suZGFq8KmHleQuO4cMnI5C1wCKwUr+9H+ADcs/ssk7NhZLERxONk3HRjTFmxlMBc3ZXJWNnftxhYPG/4JQrk5BUd+UKGUO6mtjXDMshr57Inh8H//gBy10FDZcuP/CaKPQXObdDPdNbcJ0TPQ3CZEb4Usb4IgCBOExJsgCMIEIfEmCIIwQUi8CYIgTBASb4IgCBOExJsgCMIEIfEmCIIwQUi8CYIgTBASb4IgCBOExJsgCMIEIfHucRpmIyAIgugoNLdJN2M4t8mtrGHIK4nC8cRfxZSuQSqRwkrGT4DdpVRUa6Ct6cI36JgYNbU1KKsqpblNiF4HiXc3YyjePEM+x+vzD4o7XYeVzApO1s6QmAkvbOgMtbW1KNDko1zLT6rd5yHxJnobJN7djKF4Hzu2COU1RqZr7QLMJGaoNdfh6tEMWEk7boVrtBoUlOfjvlktfH0Hw9VjgHiEIIiuwOYRKzyxuEMTK9dD4t3NGIp36tE/okLnj6LbJWJK12HjZAVzC3P0d7BE+rmruF/Sr11WeO19He6V32PiXQ653BmDfL1hYWWBEnU5amu4ubMJgugK+jHbymmwPSYvnCimtB8S726mOfHurvm8Hd0dYCe3Bv9ntbzfZiu8ztpmas+sbR+4uMlRU6VDQV4xKoqFFzwQBNE1FGkKUVxZhPcPvC6mtB+KNnnIKMwtwt0b96DT6mBW1Q8Bv3kM9+1qoGNWtTE4azu/7C7UZSo4uzgjeOwYXrjL7pXj9lUVCTdB9FJIvB9CKkoqmfDe5d0dVSVVGDhoIAaN90BJVRGKKxqWoopCKIvyUGNWAz9/Pwz1H4x+Zv2Qf6sQ97KLUFvb8FBGEETvgsT7IYUTXs4Kz88sYFZ4DVBlhqDw0bDzsOZFm1s4AXdxHYDRjwfC2dUJ5fc0uHPtLsoL+DdVEgTRiyHxfsgpL6qA6pqad4NwVriXhxcmTp5Qv/j6+cDsvhlvbednF0JXUyt+kiCI3gx1WHYzPd1h2RJcNIpEJkSfmJmZ8WsOTthrtBRN0hr9JGZ8h7C1Y39I+0sb3UOi71LLDB5NcSX/OyrLb9u4iK7osCTx7mZ6k3gTHcfOxQYKP1fIvZ3EFIJoTAUTcOUVFZTpKjGleSjahCB6AFu5NTwD3Ei4iRbpb28Jn3ED4TFKIaZ0LyTeBNEKrkMHwNHNXtwjiJZxH+EKe1dbca/7IPEmiBbg3CXyQY+IewTROtwoZ2ev7n9KI/HuA0xcF4no7XMQMU1MeMgQ6heJedFiQhdiaWMBiXknfibpG+E3eTD8vkoTE0wM9XdYYcrX/4BwdO/+JzUSb4JoAYm08zM0En2PnvjekHj3AVJjExC/cA8SfxATCKK3U/fEYrBM/N8UlIpZ+jok3gRB9D78liM96RJO7/sJpz9/C3Vz7+UXlKJK3O7rUJx3N9Ndcd7O4SGYGKGAs5NMSNCUQXnkIrIHBmGcnwxFqQnYFS8c4nzCwxRaKL9usL6FtBJkbC2A8zwvOHB/4motVEkp2LcjH3DxwrhFIzBsqDVkluIjoE4HbXEJshNP4XBSoZDGMW0yFj/rwqylK7gKD/j72YD7hFaVg7OvHcVlIZdxvIcg7I8j4OluCZlUTOPOo1Lh6r/O4dTJMjGxeYS6oFGdedpTh2Z4dNgA+IZ4iXstUYKbhzdiXcJ+pGaq4ew9A1H/9Tai+m2H3583AIt3If25QDGvSEEaEr/fjYTk3bjAvg7O3uMxacpLWDFnPJwbPXWn4fPJ8xDHyjgdeB5vrFuL5Dx3BExdjvdWzMUg8SuQn/4d9n7/FfYeTEMu5BgUEIrZz8UgKkAuZDCk4CQSvtqOxJ+Smj8/5/P+w6tI5q7/mUqW/59IOJaCmwWs/PFPI/IPMYgcYSdm1kMsO/mXNJxm9wPi9cz43RJETvBB22MxcpG4dh5ifxqHiMe+QyI+QurfZsBZPFrPne/wZoIFXnw1HO5i0oNEW1GN0zua7yegOO8+imd0BGYt8uKFW1dQgqLcMmgtbKCYNhajPRr96lvBGt7PMuHuV8nKKIGmuhKlv3DCPRwRb4dg5Cg7yFDNH+OPV0kgc3KE76LJRjs/ZYOHYCQTbp2a5VdrgXsFLQv36LGY97cg+Hoz4a4sE8/D6lLLzqNQYGR0KCaOEPO2lw7WoWNwAjMVEe9vRjrGISp6FWY/VoodK6Yidr/xO1CVsRnLXmSitDUFJUOXYCX7zAzvuzgSvwgT/2sjLhibzPHMB3hxxXZUjVmOlc+Fws7VHW68cFfhyp4X8Ps/v4q4MyUImL+KlTcTfsUpWP9aCCK/SmtirValb0Tk3EV4b3868Bh3/uUIl+dgb3PnP7MBUS8uwtYMOSbNWYUXZ/pDe3I7azym4r2Tjeemry/72A3IHxfqtnI+u171bsS9NRUvJqS32XrO/f4dxCa7Y8U7HyB2QriYapyqky8jdg+rTwfQKdNx/J9ncNTIcvyoEr3xRYAk3qbGiLEY94Qds2x1zNJMweZXErFr1X5sjT2BDCUTUNv2iLcEkmoVTr3+DSsjEdujE3H4EjBs0XAomGmkU97AwaXCMeH4fpxK577GMriMNfI2IKkEpcwq2xrD8sfswdY1LUm3DZ6Y7QMHZm1r09Ow46X94nlYXaJSkMENUpPawe0pZtF3gA7XoQPkH2bCkqzG8Plf4PtNHzGhWoIVK75A0td/BZhV2wRtGrauX4vUgkC8uO4gEl9fhSj2mZWvH0TC68yqTN+AV+KN+HbZfZKv+gqfrWDW9OK38Nlz42HBkqvSN+ONf6Qg3285tmw6iHXRS1h5q7Bu0y6smyLHha0vY72+wGpP4rO3NuCC0wy8u4WdcyV3/hi88QHbXsyeDtj51x28IWYWST8Ju+cO4rtP1tTX77u45RgONRL2/5s1X3WkIyFOKHvdJ3XXwpboNUj4fBde9AUubN6PC21RQ3ade1nj5syubbGfBZwHsA83h+sMvLI4FBf+waz9YjGtHUgUPhho7C13Egu4BSnYt6X3QeJtYiiYmDlw+nzrBn6IZ2pdhyoLh7/MQlE7pyjRXL2Bi41G8/rAQyGFTqeF6sfTaHD4cJThYn4lvyWxsuTXjdAVIvMzvWtqkWFwdmEXqyvBzc1XDIRKifx7wq/bwrYj8bKdqEO7ycWRg5xAz8UyZl02cgdwgrIkVNxpoPQMs0AzAOfIGCwb09jl4B72Nt6cyhqE/V8jqYlnbSFmjzd0CpQg9fsNuAI5XlyyHGMbRai5I+KltzHbQGBLWYPyeQEw9rmXMduTk/86LJjVzhoGt0BYZKbrCTLDdxWWzfThG4s6LEY8jQhOT8+owZ7XBDLO47SND9xnPocIVzGtjv7u8HHjNnKgbovAZqZhL7vOGWNGC+d1dMdY/oBx3CfMZXXdjcSfODdNe7GA+xg56rxrdViOGQiv/uJOL4PE28TwdbPh10W3zjW1zC5dRn79r6htaJjoN+YGkmN2YvPznH/cEZ4TvBC4KARhK8Mxb8McLGFWf7OUVTT8iFvlHPYt3Yn45xORChd4TxiC4CUhmLJ6GuZ9PAfBQztj63SiDu2lIB2nf2LrCeMx3Ehor7vvOGad6lOF9PTd/NbssYLl3Bg7DA/g3AMpOJ1hIEK+7pALf/4GtJdxgX+X9VxMCmhaGuz9MHYCW585iStMCDluZGxn/8sxbqiPkKCPbDxWfrkLW16d0dh37O3BPmGIHHJejEtQVWdJ+y7EZx8eRBLn39eWoLTgBi5cSEHivzbgvf9+GR8fEfO1gfw7Gez7FI7hdQ2M21xsMebvroPVNWAMkJzXqNlpO7YDMWSUubjDsLaDt5+DuNP7IPE2KYbAjhcILTQ5fIIBZfUWa9vQQiv+oBujwLjVM7Fk2zRMXRaC4HAv+I5yhoOTBLrqFkz78gowg7LtuAxB2No5iP5wMqYsC0LgU17sx+IIB3t2nk7PTNvBOrQXXZXgv3VzNiJuDPsBBh1oJVDf4dY+uHliM7bsbLok824dIDHbQITcBjQ9R3G+YCF7ZiDZSFlbdv5bdFF8h5v8edXIzeTWgXBrz0ONm7x50TS0pIvTsOX9qZg4bQzGzp2KyNdeQOz/7sapYnu4teD5aAK7t+3DAhaGjVu76Ad7/0fhxL81kG0/4Q3nXqyQJN4mBXuma49Lu0PYYNz7T/Idj5LaShSl5+Dq/nM4/Mkh7Hh+J7aeaduUl63jg6lcZ6U7s7A1ZVD9nIXLu07g8Ec/MGt8J85fb08jZEhP1aEzsKeDnWuxPt7Isj9FzNMOspOwxVhZbEk4I+bpCYpT8N7SeVh/uAqB89cg7sN9SNr3E9KSTiDxwzWYzVvqbcPW3kPcaitqqLmoGYmRJ5C2In0Ugx+3ZI9Mcgx270Q5PQCJt0lxBSVF3FoGK6Pfaxs4P9LJrpURgfAeyLUQlcj85BvsWnMUqbuuIeO0qmsHR8zxAT/XU2UhLr65H/vWn8Dx/VnION96+F6r9FQdOJhQ8D/xvHwmHUZoYuTbQc77gsOx7uvrSD/UwmIYWmgMe2fBsp/wEZKMlaG3vOjHZZTD3ZNbpyHP6FNX58g99k8kcP70FZsQFz0XUwL84G5jB4sOGB0Wnv6YgiRcyW6jBZ53Gacz5JjtZ8Qd1A5k3r4IesIDvdTVXQ+Jt4mhvCN0tjkMDGoaK+syDA7NP9u2DQ+ZIEaaYqjO8yl62OCJgV3kL3aSCQ8RBQU41WT6Yx8ohBi4jtFTdeBw8sPYx9n62H6cNhK6X5pxEsnitoAFfHw5n3YSE5rGIXYdQuaL4ZPY+thJXGljlIWP71z2vxqnfjWIKOHJxd7YpxAZuxkXOuBdyi84ya/H+RoR0OI0nG6HzxvySZg9U44t3ye1oS+lChcOb0eq3xKEG/P9twsr9Lfu/dJI4m1iZCTlCRElA70wZYH+vMEKTHzNx2BwRwfI0Qo+XCtHeD6j70C0ge+yUAwbKO52lgKtYJS6uCBsNJ8i4ojA1YHw7My8Pj1VBx53hM9cCGekIO6r75CrL3h3vsO7cULnpD7O4xciygnYG/c2Enk/tB46LmY8BH6L5iHup7ZYnHJMeWYJO/9uvPsPg/NzsGuInTsY4X/egNNi7LbtmBn8+U9/9WmT85ce28zOm4vcoX4Y3oHvkrPTeH6ddMYgtpyr1z/exl5xt23YYeL8vyLilw+w7vsbjcszIPfkWqzbaoEVLy006CB+eCHxNjUuncap4yVM+GRwfiYUSz6OwLy1EVi4iYkS03JdtZCtpqNu3UvXkMcrgAyKBTOxeENd+TMRNsEOVZmF4F9P7GCDkdy6o+zJgYrzYUiYoK6Yj4XruPOw822bhmA/CUozuTqyq3DogJXcU3UQsR2/Ch8vDkR+8qsIj3oB723djC3xryLiz6/ilGtgUzHpPx6vvBODsWDC+iyzctevFToX41cjMuopPmbc/bGlmD2mbRakxZgYfLyEiSZ//nl4M17orFy/fh7Cn30ViQXuGDtnLsbW+QHE8wcUCOdfFrdByP/+VDzz1nbk+7HyIo1FwrSO++MLEcEahitfzcOMv76DOL5e7F784SmsU8/FG89x4p6EvLZG87nOwLsfxsBi51TM+O/NSM1Wo6qugdJVIT87BQkfLULkP+4iYuMmvOjXWavbdCDxNkGy4xORzMSvqFQHiZMdHNztYFFdguzvj+I6/6NoLoqkLaiQuuE0LqaXgXutpUwulG+uKUTmtyew700lSjnPjZU1XDo6+pHnChLXnUNGLmeBS2ClYOd5lKkLNyz+yyTs2FksCKyTPYL5/O2hp+pQhwUCnvsKSR+swmz7DCR8tRbrj+UicOan2LryOYNoEwELbkDN51/ijZl+wC9MOLnOxZ0n+VC7Nz74EXtXtmeYNzt/5Jf45sO3EOnLLGqxI3TLL8DwmW/hsy/34d1JjUvjzp+wmzu/L3KPbeTzf5c5AJOiv0DSuuUI6KjDVx6OdaxeK6cGAme243NW7o5fLDHjpV34Zl0MZj/GO95xKrPt4XwWnnPx7pafEBcGpG59DbP/IE5U9YdZWLn1CKoCYvDNlk8RObQL3WEmAM1t0s307DsshyMiPhAKqzJkrt2P5EtiMtFhFMNd4DO+S/0sRB+guqIap2huk4cL1wHX+DX39vEOER2B6G3zsXD1KIMOS86f6wMXrp0tLkEOCXeXoK0U/VAE0Q6qNJ0JdW0bJN49jMJNmDhH1lHxPqFGUa0EVn7+WBD/e96Xy/tz4wV/rqS6EtkHzuGqmJ3oHJUlVagq7/4fIvFwUZjbgQlW2gmJdw9jY1OA2poayCw7KN6XTuOH+MvIzKyEVmrJ+3K5xUqqhSYzB2nxSTj4fevTqBJto+xeOe7euCfuEUTrVBRXQp3ZDUH0BpDPu5sx9HlzHDq2FmWFtVBltHMiEuKBYGlrgYGBbhjg29kgeuJhh/N1Z53Pw51f74opxiGftwlQrmt6i90G1/CCYDegUxMxED1EZWkV38Gcc/E2uVCIZinMLcL141mtCndXQZZ3N2PZrxabBgudlPW4Lkby3lHQVXHWt5oEwYSwecQalnYWvNtL/6dD9F24r0FlSSU0RRX8G3TaQldY3iTePcBG3+uwk9SNLGDYh0A3cAP+/eER1FTpcEcIziYIoo9AbhMTQV1tME+H5ldIpBJ4jFLAwkbW8bBBgiD6LCTePcDJEoMppKrvAblxeGzaMLg95oIqTVvmsCAIgmiAxLsHOF3WZP4/QPUVUH4ZI8KHYfA0T/4xiiAIoq2QePcAhdVSnCw1Mu9CRgy/mrxwIl7eEgVrbwuUVZVCW0MdmARBtAx1WPYQgy0r8H88c2BpZvB+L3MnYMhGoL/wfqgLhy/hP9uPoFhVCgtzC8gkzcxrbcYW7i8nrqUSKaw79w4oo5RXlaG6bqpConfDfRfqaPhVN6W78rWUh6Oj+bh9w88YK+tB5GvucxytpFG0iQkxwa4Yyx69Le4Z4PYnPoSQo6pCi9xflci9Ji5su+Re6++A4cTbob8jzPvpvUS1g9TU1qCoopAXb4IgugcSbxPiGacCLJA3E8QvZVZ4fx/AchBT4hFsf4B4oO0c/DIDV1KKO2WFc4LNCTcn4Bxhc3wxeW573hxrgtiOETcIwjQg8X4ABNqU4TW3ts9n3F5uZjrj0L+fRHW5R7uscENr29s7H2FPXcEgtn6oefQFQNH4e08QvR3qsHwApJXZ4C+Zg3CpmxpFTmxfWPYvDPI/1ma3B5dPVXK7Pv/kp65i6R+PPvzCzWFW55AkCNOBxPsBcUcrw4e5HtiTL4eKbXcHU6eex6z538Csf2a9C8QQLj2/XM0v3DZnbS9hoh0WdkXMQRBEb4TcJr0Abv6TJ+2KMc6uBANk1XCUGBfaznDw4Ghc/GmUsMMZmuJfvVxb1uDbfuoKJof1wZnAFdHAo2whCBOCxLsXYiXRQW5ew6+7Ep3SFtXnH0UtW+vTT1EK6ejbkLB1X8Bwil4Sb8IUaSzemmvAlUhxR+BTpRtOlhoZIUgQJsr2oQZPFyTehAnS2Odt0fR91Z6W3Gu2CeIhRs9+IQhTobF4S6wAc0dxR2CgJU2aRBAE0dtoGm1i4SZuCAy0IMubIAiit9FUvB3DxQ0Be0lN8yMCCYIgiAdCU/F2+o240QA3pNuHfN8EQRC9hqbizc2n4fS0uNPAq2454hZBEATxoGkq3hzy+ULnpR725jps9MmAhwV1YBIEQTxojIu3zUjA4/+IOw3YmdfgA69MzHC6J6YQBEEQD4LGg3QM4V7VlRsn7jSmRGeOXK0FcqtkuFHRHwU1nZ9DmiB6giYjLGlWQcIEaVm8OQqTgJurxR2CeAgh8SZMEONuE3240MGhm5rEfxMEQRAPjtbFm8MmAPD5CHCJFN72QhAEQTxQWnebGFJTABQcBAoPA9o8tqjFAwRhopDbhDBB2i/ehuhKgarbwpogTBV6hyVhYnRevAmCIIgeBvj/Az00xfefqBAAAAAASUVORK5CYII=)"
   ]
  },
  {
   "cell_type": "markdown",
   "metadata": {
    "id": "Dzqn-vVbIEvI"
   },
   "source": [
    "En la mayoría de los escenarios, sin embargo, repetir solamente un patrón no será suficiente"
   ]
  },
  {
   "cell_type": "markdown",
   "metadata": {
    "id": "KuhiFj8igLoi"
   },
   "source": [
    "![image.png](data:image/png;base64,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)"
   ]
  },
  {
   "cell_type": "markdown",
   "metadata": {
    "id": "R0DxAQlGgNQW"
   },
   "source": [
    "En este caso, la cantidad de bloques que nuestro monito tiene que avanzar antes de que sea necesario girar a la izquierda no es constante.\n",
    "Lo que sí podemos detectar, es que siempre que haya camino a la izquierda nuestro monito tendrá que girar."
   ]
  },
  {
   "cell_type": "markdown",
   "metadata": {
    "id": "XmFvcu3Rgrm-"
   },
   "source": [
    "Entonces, para lograr nuestro objetivo, podemos establecer que toda vez que exista camino a la izquierda, nuestro monito gire, de lo contrario simplemente avanzará recto.\n",
    "\n",
    "![image.png](data:image/png;base64,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)"
   ]
  },
  {
   "cell_type": "markdown",
   "metadata": {
    "id": "l2yyKLdVgy1d"
   },
   "source": [
    "En Python, las condicionantes se evalúan mediante \"if\", y dependiendo de si estas son verdaderas o falsas, el código será ejecutado.\n",
    "Las comparaciones se escriben de la siguiente forma:\n",
    "\n",
    "\n",
    "*   <, >, >=, <=\n",
    "*   ==: Es igual\n",
    "*   !=: Es distinto\n",
    "\n"
   ]
  },
  {
   "cell_type": "code",
   "execution_count": null,
   "metadata": {
    "colab": {
     "base_uri": "https://localhost:8080/"
    },
    "id": "0EsSbIaZiMmR",
    "outputId": "8fda1bcf-72f5-49a8-b15a-0a8fd6b006bc"
   },
   "outputs": [],
   "source": [
    "if promedio >= 6.5:\n",
    "  print(\"Te has ganado una Play 5\")"
   ]
  },
  {
   "cell_type": "markdown",
   "metadata": {
    "id": "rksZIqNbkKEP"
   },
   "source": [
    "¿Qué pasa si uno quiere que su código ejecute distintas acciones con condiciones excluyentes entre sí? Por ejemplo, asignar distintas etiquetas y solo una etiqueta a cierta nota.\n",
    "Se pueden usar las estructuras \"else\" y \"elif\", como se muestra a continuación:"
   ]
  },
  {
   "cell_type": "code",
   "execution_count": null,
   "metadata": {
    "colab": {
     "base_uri": "https://localhost:8080/"
    },
    "id": "RUKcXhK2lAqf",
    "outputId": "cad29a3c-ed12-460d-e189-d625d0e8457e"
   },
   "outputs": [],
   "source": [
    "nota_religion = 7\n",
    "\n",
    "if nota_religion < 4:\n",
    "  print(\"Insuficiente\")\n",
    "elif nota_religion < 5:\n",
    "  print(\"Regular\")\n",
    "elif nota_religion < 6:\n",
    "  print(\"Bueno\")\n",
    "else:\n",
    "  print(\"Muy bueno\")"
   ]
  },
  {
   "cell_type": "code",
   "execution_count": null,
   "metadata": {
    "id": "J97zOi4gE3gH"
   },
   "outputs": [],
   "source": [
    "# Ejercicio: Las siguientes líneas de código solicitan escribir un número entero al\n",
    "# reproducir la celda y asignarlo a una variable denominada \"numero_prueba\" al apretar enter.\n",
    "\n",
    "numero_prueba = None\n",
    "while numero_prueba == None:\n",
    "  try:\n",
    "    numero_prueba = int(input(\"Ingrese un número entero: \"))\n",
    "    break\n",
    "  except ValueError:\n",
    "    print(\"Item ingresado no válido, intente nuevamente\")"
   ]
  },
  {
   "cell_type": "code",
   "execution_count": null,
   "metadata": {
    "id": "DsOVNr71r1hW"
   },
   "outputs": [],
   "source": [
    "# Imprima \"es par\" si el sucesor del número es par o \"es impar\" si el sucesor del número es impar\n",
    "\n"
   ]
  },
  {
   "cell_type": "markdown",
   "metadata": {
    "id": "_yz4ABLpJEf2"
   },
   "source": [
    "### Ciclo o loop\n",
    "En el ejercicio anterior, se usó un ciclo o loop para pedir cuantas veces fuera necesario al usuario ingresar un texto hasta obtener un número válido.\n",
    "\n",
    "Para ingresar al loop \"while\", se debe cumplir cierta condición, en este caso fue que numero_prueba no tuviera asignado elemento alguno.\n",
    "\n",
    "Para permanecer en el loop, dicha condición debe seguir siendo verdadera. En el ejemplo anterior, al escribir el usuario un valor entero, este se le asigna a la variable numero_prueba, por lo que la condición es falsa y se sale del loop\n",
    "\n",
    "Otro tipo de loop es \"for\", el que nos permite condicionar la permanencia en el loop a un número determinado de repeticiones"
   ]
  },
  {
   "cell_type": "code",
   "execution_count": null,
   "metadata": {
    "colab": {
     "base_uri": "https://localhost:8080/"
    },
    "id": "hnOdZpasmqfT",
    "outputId": "02ce33d7-2a8b-4c8f-c4b8-e85c1ecaa510"
   },
   "outputs": [],
   "source": [
    "# Imprimiremos cada carácter de la palabra \"Radiología\" por separado\n",
    "palabra = \"Radiología\"\n",
    "for i in range(0, len(palabra)):\n",
    "  print(palabra[i])"
   ]
  },
  {
   "cell_type": "markdown",
   "metadata": {
    "id": "uwb5dYLyB1fN"
   },
   "source": [
    "## Manejo de strings"
   ]
  },
  {
   "cell_type": "markdown",
   "metadata": {
    "id": "j4HKsiUqB53d"
   },
   "source": [
    "Los strings son objetos iterables, lo que significa que se pueden \"recorrer\".\n",
    "Por ejemplo, el último código que escribimos lo podemos simplificar a lo siguiente"
   ]
  },
  {
   "cell_type": "code",
   "execution_count": null,
   "metadata": {
    "colab": {
     "base_uri": "https://localhost:8080/"
    },
    "id": "mOzd9kbUCT_N",
    "outputId": "5e2c7b60-9728-4612-a242-17661776952c"
   },
   "outputs": [],
   "source": [
    "for letra in palabra:\n",
    "  print(letra)"
   ]
  },
  {
   "cell_type": "code",
   "execution_count": null,
   "metadata": {
    "id": "SI3zpSR4z2is"
   },
   "outputs": [],
   "source": [
    "#Ejercicio: imprima cada letra de la variable \"palabra\" pero en orden inverso\n",
    "\n"
   ]
  },
  {
   "cell_type": "markdown",
   "metadata": {
    "id": "iSq_7QUU5_d0"
   },
   "source": [
    "En la sesión anterior, vimos que los strings se pueden concatenar uno tras otro con el signo \"+\". Otra forma de realizar esto mismo es con el método join()."
   ]
  },
  {
   "cell_type": "code",
   "execution_count": null,
   "metadata": {
    "colab": {
     "base_uri": "https://localhost:8080/"
    },
    "id": "WR7r5rn67sOx",
    "outputId": "0e69db59-fa59-4d62-ef6a-5fba33eb527e"
   },
   "outputs": [],
   "source": [
    "frase = \"Aprender a programar es útil\"\n",
    "palabras = frase.split(' ')\n",
    "print(palabras)\n",
    "\n",
    "#El método join requiere un separador y un string a juntar, con la siguiente redacción:\n",
    "#'separador'.join('string')\n",
    "\n",
    "todo_junto = ' '.join(palabras)\n",
    "print(todo_junto)"
   ]
  },
  {
   "cell_type": "markdown",
   "metadata": {
    "id": "skm8mJMxTm84"
   },
   "source": [
    "En algunos casos en que se requiere trabajar con múltiples strings y verificar que sean iguales a una determinada condición, es útil estandarizar los textos."
   ]
  },
  {
   "cell_type": "code",
   "execution_count": null,
   "metadata": {
    "colab": {
     "base_uri": "https://localhost:8080/"
    },
    "id": "MhDZrN2i7fLB",
    "outputId": "0eb01540-c4da-4f76-ee5b-8b688fc954b5"
   },
   "outputs": [],
   "source": [
    "str_1 = \"  María, José    \"\n",
    "str_2 = \"  Juanita,      María\"\n",
    "str_3 = \"María  ,     Amelia  , Ramona \"\n",
    "lista_verificacion = [\"María José\", \"Juanita María\", \"María Amelia Ramona\"]\n",
    "lista_str = [str_1, str_2, str_3]\n",
    "\n",
    "for string in lista_str:\n",
    "  print(string in lista_verificacion)"
   ]
  },
  {
   "cell_type": "code",
   "execution_count": null,
   "metadata": {
    "colab": {
     "base_uri": "https://localhost:8080/"
    },
    "id": "-70pK4qTVkYP",
    "outputId": "b108ddf3-6412-4373-cdfe-57da519a8db1"
   },
   "outputs": [],
   "source": [
    "for string in lista_str:\n",
    "  nueva_lista = []\n",
    "  for palabra in string.split(\",\"):         #Obtenemos cada nombre por separado, pero con espacios\n",
    "    nueva_lista.append(palabra.strip())     #Quitamos los espacios\n",
    "\n",
    "print(nueva_lista)\n",
    "print(' '.join(nueva_lista) in lista_verificacion) #Juntamos los nombres sin espacios ahora separados por solo un espacio"
   ]
  },
  {
   "cell_type": "markdown",
   "metadata": {
    "id": "EyZxZYTu0knF"
   },
   "source": [
    "Los strings también se pueden pasar a mayúscula completamente con la función .upper() o a minúscula con la función .lower(), lo que es útil cuando se quiere verificar datos ingresados por un usuario, ya que las variables distinguen entre mayúsculas y minúsculas"
   ]
  },
  {
   "cell_type": "code",
   "execution_count": null,
   "metadata": {
    "colab": {
     "base_uri": "https://localhost:8080/"
    },
    "id": "XtqArOUF0h2v",
    "outputId": "52145966-1934-4127-82dd-4b4dfb345791"
   },
   "outputs": [],
   "source": [
    "print(palabra.upper(), palabra.lower())"
   ]
  },
  {
   "cell_type": "markdown",
   "metadata": {
    "id": "krDG8w6f3yHm"
   },
   "source": [
    "Tip: Para ser más restrictivos en la verificación de entradas de texto por usuarios, se pueden usar las \"expresiones regulares\", fuera del alcance de este taller."
   ]
  },
  {
   "cell_type": "markdown",
   "metadata": {
    "id": "03do-QCV7q7j"
   },
   "source": [
    "Por último, también se pueden incluir variables en un string con la funcion .format(variable)"
   ]
  },
  {
   "cell_type": "code",
   "execution_count": null,
   "metadata": {
    "colab": {
     "base_uri": "https://localhost:8080/"
    },
    "id": "qq7ONtJb6rfV",
    "outputId": "b61da42a-f129-44ec-e861-1927b398b9f0"
   },
   "outputs": [],
   "source": [
    "prueba = \"El nombre del usuario es {}\"\n",
    "for nombre in lista_verificacion:\n",
    "  print(prueba.format(nombre))"
   ]
  },
  {
   "cell_type": "code",
   "execution_count": null,
   "metadata": {
    "id": "bA5DwFls86ZJ"
   },
   "outputs": [],
   "source": [
    "# Ejercicio: imprima enuanciados de operaciones matemáticas con sus respectivos resultados\n",
    "\n",
    "# Ejemplo: \"La raíz cuadrada de 34 es x\""
   ]
  },
  {
   "cell_type": "markdown",
   "metadata": {
    "id": "B_6kjxLwB6DE"
   },
   "source": [
    "## Manejo de listas\n",
    "\n",
    "Las listas, al igual que los strings, son iterables, como pudimos ver en ejemplos recientes. Además, se puede acceder a sus elementos por sus índices."
   ]
  },
  {
   "cell_type": "code",
   "execution_count": null,
   "metadata": {
    "colab": {
     "base_uri": "https://localhost:8080/"
    },
    "id": "nruwovDLVCGg",
    "outputId": "464a9b91-90b3-4a56-da45-9ded29b36f17"
   },
   "outputs": [],
   "source": [
    "print(lista_verificacion[2])"
   ]
  },
  {
   "cell_type": "markdown",
   "metadata": {
    "id": "022Y-7t9_PVG"
   },
   "source": [
    "También se pueden invertir sus elementos"
   ]
  },
  {
   "cell_type": "code",
   "execution_count": null,
   "metadata": {
    "colab": {
     "base_uri": "https://localhost:8080/"
    },
    "id": "u8U_4Ax8_YgG",
    "outputId": "f4495087-50f4-427c-8075-3e8b229a7922"
   },
   "outputs": [],
   "source": [
    "print(lista_verificacion[::-1]) # Otra opción es el método .reverse()"
   ]
  },
  {
   "cell_type": "markdown",
   "metadata": {
    "id": "NK6IOFyA_dks"
   },
   "source": [
    "Para agregar un elemento, se puede usar el método .append(elemento).\n",
    "En caso de querer unir una lista a otra, se puede hacer de dos formas distintas:"
   ]
  },
  {
   "cell_type": "code",
   "execution_count": null,
   "metadata": {
    "colab": {
     "base_uri": "https://localhost:8080/"
    },
    "id": "xhkBwwYSAKet",
    "outputId": "8753b6a7-b224-4448-e6ed-f57c8d971259"
   },
   "outputs": [],
   "source": [
    "nombres_2 = ['Rosario Trinidad', 'Alejandra Antonia']\n",
    "nombres_3 = ['Camila Andrea', 'Josefa Pepita']\n",
    "\n",
    "lista_verificacion += nombres_2\n",
    "print(lista_verificacion)"
   ]
  },
  {
   "cell_type": "code",
   "execution_count": null,
   "metadata": {
    "id": "hPwoZwAMA0hL"
   },
   "outputs": [],
   "source": [
    "lista_verificacion.extend(nombres_3)"
   ]
  },
  {
   "cell_type": "code",
   "execution_count": null,
   "metadata": {
    "colab": {
     "base_uri": "https://localhost:8080/"
    },
    "id": "AfzhNt99A4U8",
    "outputId": "4387d748-0e83-4c02-d6ef-cb087dd9a3e3"
   },
   "outputs": [],
   "source": [
    "print(lista_verificacion)"
   ]
  },
  {
   "cell_type": "markdown",
   "metadata": {
    "id": "QwuGRaRIB1zf"
   },
   "source": [
    "Si se quieren concatenar dos listas en una nueva variable, simplemente se pueden sumar: lista_nueva = lista1 + lista2"
   ]
  },
  {
   "cell_type": "markdown",
   "metadata": {
    "id": "z4pBC7DlCSIb"
   },
   "source": [
    "Además, se pueden insertar elementos en una posición determinada, con el método .insert(indice, elemento)"
   ]
  },
  {
   "cell_type": "markdown",
   "metadata": {
    "id": "aemxT67KDUCQ"
   },
   "source": [
    "Para eliminar items, se pueden usar tres métodos: remove, pop y del"
   ]
  },
  {
   "cell_type": "code",
   "execution_count": null,
   "metadata": {
    "colab": {
     "base_uri": "https://localhost:8080/"
    },
    "id": "5l2EONqrB1U2",
    "outputId": "afeb5904-9097-4240-f85e-da6e732dedf7"
   },
   "outputs": [],
   "source": [
    "lista_verificacion.remove('María José')\n",
    "print(lista_verificacion)\n",
    "\n",
    "print(lista_verificacion.pop(2)) #si se deja en blanco, pop elimina el último elemento\n",
    "print(lista_verificacion)\n",
    "\n",
    "del lista_verificacion[:1]\n",
    "print(lista_verificacion)"
   ]
  },
  {
   "cell_type": "markdown",
   "metadata": {
    "id": "4SBk1JxpEZqt"
   },
   "source": [
    "Por último, las listas se pueden ordenar, con los metodos sorted y sort"
   ]
  },
  {
   "cell_type": "code",
   "execution_count": null,
   "metadata": {
    "colab": {
     "base_uri": "https://localhost:8080/"
    },
    "id": "9Ls-oH5XEhpT",
    "outputId": "47938ab3-dc93-4e03-b997-2a6c13407eb0"
   },
   "outputs": [],
   "source": [
    "print(sorted(lista_verificacion))\n",
    "print(lista_verificacion)"
   ]
  },
  {
   "cell_type": "code",
   "execution_count": null,
   "metadata": {
    "colab": {
     "base_uri": "https://localhost:8080/"
    },
    "id": "iDtzTyaHQqfK",
    "outputId": "ed981c2d-1e30-4f51-a7ca-7ec5605bdbe7"
   },
   "outputs": [],
   "source": [
    "sorted(lista_verificacion, reverse=True)"
   ]
  },
  {
   "cell_type": "code",
   "execution_count": null,
   "metadata": {
    "colab": {
     "base_uri": "https://localhost:8080/"
    },
    "id": "N-TTj_HXHelT",
    "outputId": "f5dedeaf-5896-46df-8d8f-468a9f7bc154"
   },
   "outputs": [],
   "source": [
    "lista_verificacion.sort()\n",
    "print(lista_verificacion)"
   ]
  },
  {
   "cell_type": "markdown",
   "metadata": {
    "id": "PQ5_CqqfHoGF"
   },
   "source": [
    "¿Cuál es la diferencia entre los métodos sorted y sort?"
   ]
  },
  {
   "cell_type": "code",
   "execution_count": null,
   "metadata": {
    "colab": {
     "base_uri": "https://localhost:8080/"
    },
    "id": "AKCHhur4FGWU",
    "outputId": "2748f995-4b86-44de-ddd9-d5a7c6bff6c0"
   },
   "outputs": [],
   "source": [
    "# Ejercicio integrativo\n",
    "\n",
    "#El siguiente código nos permite crear un número aleatorio entre 1 y 10\n",
    "import random\n",
    "print(random.randint(1, 10))"
   ]
  },
  {
   "cell_type": "code",
   "execution_count": null,
   "metadata": {
    "colab": {
     "base_uri": "https://localhost:8080/"
    },
    "id": "qHhOzROidmK9",
    "outputId": "7a785b85-cd40-4151-95bf-6a001647d9d9"
   },
   "outputs": [],
   "source": [
    "# Cree una lista de 100 números aleatorios entre 1 y 50\n",
    "\n",
    "lista_ejercicio = []\n",
    "for i in range(0, 100):\n",
    "  lista_ejercicio.append(random.randint(1, 50))\n",
    "\n",
    "# Usted es supersticioso, por lo que quiere borrar todas las existencias del número 13 en la lista. Luego, ordene la lista del número mayor al menor\n",
    "\n",
    "while 13 in lista_ejercicio:\n",
    "  lista_ejercicio.remove(13)\n",
    "\n",
    "lista_ejercicio.sort(reverse = True)\n",
    "print(lista_ejercicio)"
   ]
  },
  {
   "cell_type": "markdown",
   "metadata": {
    "id": "jLJM6cmXEhD1"
   },
   "source": [
    "# **¡Nos vemos la próxima sesión!** ✌"
   ]
  },
  {
   "cell_type": "code",
   "execution_count": null,
   "metadata": {
    "id": "x1xhgcmdRTZa"
   },
   "outputs": [],
   "source": []
  }
 ],
 "metadata": {
  "colab": {
   "provenance": [],
   "toc_visible": true
  },
  "kernelspec": {
   "display_name": "Python 3",
   "language": "python",
   "name": "python3"
  },
  "language_info": {
   "codemirror_mode": {
    "name": "ipython",
    "version": 3
   },
   "file_extension": ".py",
   "mimetype": "text/x-python",
   "name": "python",
   "nbconvert_exporter": "python",
   "pygments_lexer": "ipython3",
   "version": "3.8.8"
  }
 },
 "nbformat": 4,
 "nbformat_minor": 4
}
